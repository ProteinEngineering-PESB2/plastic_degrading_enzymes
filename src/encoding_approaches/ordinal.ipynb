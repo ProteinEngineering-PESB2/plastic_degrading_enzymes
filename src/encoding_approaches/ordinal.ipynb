{
 "cells": [
  {
   "cell_type": "code",
   "execution_count": 1,
   "metadata": {},
   "outputs": [],
   "source": [
    "import warnings\n",
    "warnings.filterwarnings(\"ignore\")"
   ]
  },
  {
   "cell_type": "code",
   "execution_count": 3,
   "metadata": {},
   "outputs": [],
   "source": [
    "import pandas as pd\n",
    "from lib.OrdinalEncoder import OrdinalEncoder"
   ]
  },
  {
   "cell_type": "code",
   "execution_count": 4,
   "metadata": {},
   "outputs": [
    {
     "data": {
      "text/html": [
       "<div>\n",
       "<style scoped>\n",
       "    .dataframe tbody tr th:only-of-type {\n",
       "        vertical-align: middle;\n",
       "    }\n",
       "\n",
       "    .dataframe tbody tr th {\n",
       "        vertical-align: top;\n",
       "    }\n",
       "\n",
       "    .dataframe thead th {\n",
       "        text-align: right;\n",
       "    }\n",
       "</style>\n",
       "<table border=\"1\" class=\"dataframe\">\n",
       "  <thead>\n",
       "    <tr style=\"text-align: right;\">\n",
       "      <th></th>\n",
       "      <th>sequence</th>\n",
       "    </tr>\n",
       "  </thead>\n",
       "  <tbody>\n",
       "    <tr>\n",
       "      <th>0</th>\n",
       "      <td>AANPYERGPNPTDALLEARSGPFSVSEENVSRLSASGFGGGTIYYP...</td>\n",
       "    </tr>\n",
       "    <tr>\n",
       "      <th>1</th>\n",
       "      <td>AANPYQRGPDPTESLLRAARGPFAVSEQSVSRLSVSGFGGGRIYYP...</td>\n",
       "    </tr>\n",
       "    <tr>\n",
       "      <th>2</th>\n",
       "      <td>AANPYQRGPNPTEASITAARGPFNTAEITVSRLSVSGFGGGKIYYP...</td>\n",
       "    </tr>\n",
       "    <tr>\n",
       "      <th>3</th>\n",
       "      <td>AAVHGPDPTDALLEASRGPYATRQVDVSSLLVSGFGGGTIYYPTTT...</td>\n",
       "    </tr>\n",
       "    <tr>\n",
       "      <th>4</th>\n",
       "      <td>AHVYNDKQIFSLEKERLFSRAWLFVAHESEIPQPGDYVVRQVLQDS...</td>\n",
       "    </tr>\n",
       "  </tbody>\n",
       "</table>\n",
       "</div>"
      ],
      "text/plain": [
       "                                            sequence\n",
       "0  AANPYERGPNPTDALLEARSGPFSVSEENVSRLSASGFGGGTIYYP...\n",
       "1  AANPYQRGPDPTESLLRAARGPFAVSEQSVSRLSVSGFGGGRIYYP...\n",
       "2  AANPYQRGPNPTEASITAARGPFNTAEITVSRLSVSGFGGGKIYYP...\n",
       "3  AAVHGPDPTDALLEASRGPYATRQVDVSSLLVSGFGGGTIYYPTTT...\n",
       "4  AHVYNDKQIFSLEKERLFSRAWLFVAHESEIPQPGDYVVRQVLQDS..."
      ]
     },
     "execution_count": 4,
     "metadata": {},
     "output_type": "execute_result"
    }
   ],
   "source": [
    "df_data = pd.read_csv(\"../../raw_data/data_sequences.csv\")\n",
    "df_data.head(5)"
   ]
  },
  {
   "cell_type": "code",
   "execution_count": 5,
   "metadata": {},
   "outputs": [
    {
     "name": "stdout",
     "output_type": "stream",
     "text": [
      "Checking canonical residues in the dataset\n",
      "Estimating lenght in protein sequences\n",
      "Evaluating length in protein sequences\n",
      "Start encoding\n"
     ]
    }
   ],
   "source": [
    "ordinal_instance = OrdinalEncoder(\n",
    "    dataset=df_data,\n",
    "    sequence_column=\"sequence\",\n",
    "    ignore_columns=[\"sequence\"],\n",
    "    max_length=996\n",
    ")\n",
    "\n",
    "ordinal_instance.run_process()\n",
    "ordinal_instance.coded_dataset.to_csv(\"../../processed_dataset/ordinal_encoder/encoder_data.csv\", index=False)"
   ]
  },
  {
   "cell_type": "code",
   "execution_count": 8,
   "metadata": {},
   "outputs": [
    {
     "name": "stdout",
     "output_type": "stream",
     "text": [
      "Checking canonical residues in the dataset\n",
      "Estimating lenght in protein sequences\n",
      "Evaluating length in protein sequences\n",
      "Start encoding\n"
     ]
    }
   ],
   "source": [
    "ordinal_instance = OrdinalEncoder(\n",
    "    dataset=df_data_train,\n",
    "    sequence_column=\"sequence\",\n",
    "    ignore_columns=[\"response\"],\n",
    "    max_length=30\n",
    ")\n",
    "\n",
    "ordinal_instance.run_process()\n",
    "ordinal_instance.coded_dataset.to_csv(\"../../processed_dataset/positivo_negativo/ordinal_encoder/train_dataset.csv\", index=False)"
   ]
  },
  {
   "cell_type": "markdown",
   "metadata": {},
   "source": [
    "### One Hot for public/privated dataset"
   ]
  },
  {
   "cell_type": "code",
   "execution_count": 9,
   "metadata": {},
   "outputs": [],
   "source": [
    "df_data_test = pd.read_csv(\"../../balanced_datasets/public_private_dataset/public_private_test_dataset.csv\")\n",
    "df_data_train = pd.read_csv(\"../../balanced_datasets/public_private_dataset/public_private_train_dataset.csv\")"
   ]
  },
  {
   "cell_type": "code",
   "execution_count": 10,
   "metadata": {},
   "outputs": [
    {
     "name": "stdout",
     "output_type": "stream",
     "text": [
      "Checking canonical residues in the dataset\n",
      "Estimating lenght in protein sequences\n",
      "Evaluating length in protein sequences\n",
      "Start encoding\n"
     ]
    }
   ],
   "source": [
    "ordinal_instance = OrdinalEncoder(\n",
    "    dataset=df_data_train,\n",
    "    sequence_column=\"sequence\",\n",
    "    ignore_columns=[\"response\"],\n",
    "    max_length=30\n",
    ")\n",
    "\n",
    "ordinal_instance.run_process()\n",
    "ordinal_instance.coded_dataset.to_csv(\"../../processed_dataset/publico_privado/ordinal_encoder/train_dataset.csv\", index=False)"
   ]
  },
  {
   "cell_type": "code",
   "execution_count": 11,
   "metadata": {},
   "outputs": [
    {
     "name": "stdout",
     "output_type": "stream",
     "text": [
      "Checking canonical residues in the dataset\n",
      "Estimating lenght in protein sequences\n",
      "Evaluating length in protein sequences\n",
      "Start encoding\n"
     ]
    }
   ],
   "source": [
    "ordinal_instance = OrdinalEncoder(\n",
    "    dataset=df_data_test,\n",
    "    sequence_column=\"sequence\",\n",
    "    ignore_columns=[\"response\"],\n",
    "    max_length=30\n",
    ")\n",
    "\n",
    "ordinal_instance.run_process()\n",
    "ordinal_instance.coded_dataset.to_csv(\"../../processed_dataset/publico_privado/ordinal_encoder/test_dataset.csv\", index=False)"
   ]
  }
 ],
 "metadata": {
  "kernelspec": {
   "display_name": "embedding_protein",
   "language": "python",
   "name": "python3"
  },
  "language_info": {
   "codemirror_mode": {
    "name": "ipython",
    "version": 3
   },
   "file_extension": ".py",
   "mimetype": "text/x-python",
   "name": "python",
   "nbconvert_exporter": "python",
   "pygments_lexer": "ipython3",
   "version": "3.12.6"
  }
 },
 "nbformat": 4,
 "nbformat_minor": 2
}
