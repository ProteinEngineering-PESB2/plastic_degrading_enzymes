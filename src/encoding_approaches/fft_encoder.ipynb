{
 "cells": [
  {
   "cell_type": "code",
   "execution_count": 1,
   "metadata": {},
   "outputs": [],
   "source": [
    "import warnings\n",
    "warnings.filterwarnings(\"ignore\")"
   ]
  },
  {
   "cell_type": "code",
   "execution_count": 2,
   "metadata": {},
   "outputs": [],
   "source": [
    "import pandas as pd\n",
    "from lib.FFTEncoders import FFTEncoder"
   ]
  },
  {
   "cell_type": "code",
   "execution_count": 4,
   "metadata": {},
   "outputs": [
    {
     "name": "stdout",
     "output_type": "stream",
     "text": [
      "Processing property:  0\n",
      "Removing columns data\n",
      "Get near pow 2 value\n",
      "Apply zero padding\n",
      "Creating dataset\n",
      "Export dataset\n",
      "Processing property:  1\n",
      "Removing columns data\n",
      "Get near pow 2 value\n",
      "Apply zero padding\n",
      "Creating dataset\n",
      "Export dataset\n",
      "Processing property:  2\n",
      "Removing columns data\n",
      "Get near pow 2 value\n",
      "Apply zero padding\n",
      "Creating dataset\n",
      "Export dataset\n",
      "Processing property:  3\n",
      "Removing columns data\n",
      "Get near pow 2 value\n",
      "Apply zero padding\n",
      "Creating dataset\n",
      "Export dataset\n",
      "Processing property:  4\n",
      "Removing columns data\n",
      "Get near pow 2 value\n",
      "Apply zero padding\n",
      "Creating dataset\n",
      "Export dataset\n",
      "Processing property:  5\n",
      "Removing columns data\n",
      "Get near pow 2 value\n",
      "Apply zero padding\n",
      "Creating dataset\n",
      "Export dataset\n",
      "Processing property:  6\n",
      "Removing columns data\n",
      "Get near pow 2 value\n",
      "Apply zero padding\n",
      "Creating dataset\n",
      "Export dataset\n",
      "Processing property:  7\n",
      "Removing columns data\n",
      "Get near pow 2 value\n",
      "Apply zero padding\n",
      "Creating dataset\n",
      "Export dataset\n"
     ]
    }
   ],
   "source": [
    "for i in range(8):\n",
    "    print(\"Processing property: \", i)\n",
    "    fft_instance = FFTEncoder(\n",
    "        dataset=pd.read_csv(f\"../../processed_dataset/physicochemical_{i}/encoder_data.csv\"),\n",
    "        ignore_columns=[\"sequence\"]\n",
    "    )\n",
    "\n",
    "    fft_instance.encoding_dataset()\n",
    "    fft_instance.df_fft.to_csv(f\"../../processed_dataset/FFT_{i}/encoder_data.csv\")"
   ]
  }
 ],
 "metadata": {
  "kernelspec": {
   "display_name": "embedding_protein",
   "language": "python",
   "name": "python3"
  },
  "language_info": {
   "codemirror_mode": {
    "name": "ipython",
    "version": 3
   },
   "file_extension": ".py",
   "mimetype": "text/x-python",
   "name": "python",
   "nbconvert_exporter": "python",
   "pygments_lexer": "ipython3",
   "version": "3.12.6"
  }
 },
 "nbformat": 4,
 "nbformat_minor": 2
}
