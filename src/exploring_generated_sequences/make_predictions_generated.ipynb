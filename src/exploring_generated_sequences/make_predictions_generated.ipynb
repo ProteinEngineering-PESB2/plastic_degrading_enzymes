{
 "cells": [
  {
   "cell_type": "code",
   "execution_count": 113,
   "metadata": {},
   "outputs": [],
   "source": [
    "import pandas as pd\n",
    "from joblib import load\n",
    "import os"
   ]
  },
  {
   "cell_type": "code",
   "execution_count": 114,
   "metadata": {},
   "outputs": [],
   "source": [
    "def process_concat(path_data, list_df_sequences, columns_to_use):\n",
    "    \n",
    "    list_df = []\n",
    "\n",
    "    for i in range(6):\n",
    "        df = pd.read_csv(f\"{path_data}coded_dataset_{i}.csv\")\n",
    "        df = df.drop(columns=[\"EC\"])\n",
    "        df_seqs = list_df_sequences[i]\n",
    "\n",
    "        for column in columns_to_use:\n",
    "            df[column] = df_seqs[column].values\n",
    "        list_df.append(df)\n",
    "\n",
    "    return list_df"
   ]
  },
  {
   "cell_type": "code",
   "execution_count": 115,
   "metadata": {},
   "outputs": [
    {
     "data": {
      "text/plain": [
       "6"
      ]
     },
     "execution_count": 115,
     "metadata": {},
     "output_type": "execute_result"
    }
   ],
   "source": [
    "list_generated_sequences = []\n",
    "\n",
    "df_data = pd.read_csv(\"../../plastic_sequences/generated_sequences/all_generated_sequences.csv\", chunksize=20000)\n",
    "for chunk in df_data:\n",
    "    list_generated_sequences.append(chunk)\n",
    "\n",
    "len(list_generated_sequences)"
   ]
  },
  {
   "cell_type": "code",
   "execution_count": 116,
   "metadata": {},
   "outputs": [],
   "source": [
    "columns_with_info = [\"sequence\", \"perplexity\", \"EC\", \"length\"]"
   ]
  },
  {
   "cell_type": "code",
   "execution_count": 117,
   "metadata": {},
   "outputs": [],
   "source": [
    "list_df_protrans_xlu50 = process_concat(\"../../plastic_sequences/generated_sequences/protrans_xlu50/\", list_generated_sequences, columns_with_info)\n",
    "df_protrans_xlu50 = pd.concat(list_df_protrans_xlu50, axis=0)\n",
    "\n",
    "list_df_esm1b = process_concat(\"../../plastic_sequences/generated_sequences/esm1b/\", list_generated_sequences, columns_with_info)\n",
    "df_esm1b = pd.concat(list_df_esm1b, axis=0)\n",
    "\n",
    "list_df_esme = process_concat(\"../../plastic_sequences/generated_sequences/esme/\", list_generated_sequences, columns_with_info)\n",
    "df_esme = pd.concat(list_df_esme, axis=0)\n",
    "\n",
    "list_df_plusrnn = process_concat(\"../../plastic_sequences/generated_sequences/plusrnn/\", list_generated_sequences, columns_with_info)\n",
    "df_plusrnn = pd.concat(list_df_plusrnn, axis=0)\n",
    "\n",
    "list_df_protrans_bdf = process_concat(\"../../plastic_sequences/generated_sequences/protrans_bdf/\", list_generated_sequences, columns_with_info)\n",
    "df_protrans_bdf = pd.concat(list_df_protrans_bdf, axis=0)\n",
    "\n",
    "list_df_protrans_albert = process_concat(\"../../plastic_sequences/generated_sequences/protrans_albert/\", list_generated_sequences, columns_with_info)\n",
    "df_protrans_albert = pd.concat(list_df_protrans_albert, axis=0)"
   ]
  },
  {
   "cell_type": "code",
   "execution_count": 118,
   "metadata": {},
   "outputs": [],
   "source": [
    "pet_model = load(\"../../generated_models/PET_clf.joblib\")\n",
    "pla_model = load(\"../../generated_models/PLA_clf.joblib\")\n",
    "pcl_model = load(\"../../generated_models/PCL_clf.joblib\")\n",
    "nylon_model = load(\"../../generated_models/NYLON_PA_clf.joblib\")\n",
    "pha_model = load(\"../../generated_models/PHA_clf.joblib\")\n",
    "phb_model = load(\"../../generated_models/PHB_clf.joblib\")\n",
    "pu_model = load(\"../../generated_models/PU_PUR_clf.joblib\")"
   ]
  },
  {
   "cell_type": "code",
   "execution_count": 119,
   "metadata": {},
   "outputs": [
    {
     "name": "stderr",
     "output_type": "stream",
     "text": [
      "/home/david/miniconda3/envs/embedding_protein/lib/python3.12/site-packages/sklearn/base.py:486: UserWarning: X has feature names, but ExtraTreesClassifier was fitted without feature names\n",
      "  warnings.warn(\n"
     ]
    }
   ],
   "source": [
    "predictions_pet = pet_model.predict_proba(df_protrans_xlu50.drop(columns=columns_with_info))\n",
    "df_pet_predictions = pd.DataFrame(data=predictions_pet, columns=[\"p0\", \"p1\"])\n",
    "\n",
    "for column in columns_with_info:\n",
    "    df_pet_predictions[columns_with_info] = df_protrans_xlu50[columns_with_info].values"
   ]
  },
  {
   "cell_type": "code",
   "execution_count": 120,
   "metadata": {},
   "outputs": [
    {
     "data": {
      "text/plain": [
       "positive_class\n",
       "0    115346\n",
       "1      3729\n",
       "Name: count, dtype: int64"
      ]
     },
     "execution_count": 120,
     "metadata": {},
     "output_type": "execute_result"
    }
   ],
   "source": [
    "df_pet_predictions[\"positive_class\"] = (df_pet_predictions[\"p1\"]>=0.5).astype(int)\n",
    "df_pet_predictions[\"positive_class\"].value_counts()"
   ]
  },
  {
   "cell_type": "code",
   "execution_count": 121,
   "metadata": {},
   "outputs": [
    {
     "data": {
      "text/html": [
       "<div>\n",
       "<style scoped>\n",
       "    .dataframe tbody tr th:only-of-type {\n",
       "        vertical-align: middle;\n",
       "    }\n",
       "\n",
       "    .dataframe tbody tr th {\n",
       "        vertical-align: top;\n",
       "    }\n",
       "\n",
       "    .dataframe thead th {\n",
       "        text-align: right;\n",
       "    }\n",
       "</style>\n",
       "<table border=\"1\" class=\"dataframe\">\n",
       "  <thead>\n",
       "    <tr style=\"text-align: right;\">\n",
       "      <th></th>\n",
       "      <th>p0</th>\n",
       "      <th>p1</th>\n",
       "      <th>sequence</th>\n",
       "      <th>perplexity</th>\n",
       "      <th>EC</th>\n",
       "      <th>length</th>\n",
       "      <th>positive_class</th>\n",
       "    </tr>\n",
       "  </thead>\n",
       "  <tbody>\n",
       "    <tr>\n",
       "      <th>74881</th>\n",
       "      <td>0.12</td>\n",
       "      <td>0.88</td>\n",
       "      <td>MKILAPKPFTFEGGDRAVLLLHGFTGNSADVRMLGRFLEKKGYTCH...</td>\n",
       "      <td>1.314282</td>\n",
       "      <td>3.1.1.1</td>\n",
       "      <td>246.0</td>\n",
       "      <td>1</td>\n",
       "    </tr>\n",
       "    <tr>\n",
       "      <th>73620</th>\n",
       "      <td>0.13</td>\n",
       "      <td>0.87</td>\n",
       "      <td>MKISAPQPFTFEGGERAVLLLHGFTGNSADVRMLGRFLEKKGYTCH...</td>\n",
       "      <td>1.094859</td>\n",
       "      <td>3.1.1.1</td>\n",
       "      <td>245.0</td>\n",
       "      <td>1</td>\n",
       "    </tr>\n",
       "    <tr>\n",
       "      <th>73782</th>\n",
       "      <td>0.14</td>\n",
       "      <td>0.86</td>\n",
       "      <td>MTAPLILQPVKPADACVIWLHGLGADRYDFLPVAEALQESLLTTRF...</td>\n",
       "      <td>1.243911</td>\n",
       "      <td>3.1.1.1</td>\n",
       "      <td>218.0</td>\n",
       "      <td>1</td>\n",
       "    </tr>\n",
       "  </tbody>\n",
       "</table>\n",
       "</div>"
      ],
      "text/plain": [
       "         p0    p1                                           sequence  \\\n",
       "74881  0.12  0.88  MKILAPKPFTFEGGDRAVLLLHGFTGNSADVRMLGRFLEKKGYTCH...   \n",
       "73620  0.13  0.87  MKISAPQPFTFEGGERAVLLLHGFTGNSADVRMLGRFLEKKGYTCH...   \n",
       "73782  0.14  0.86  MTAPLILQPVKPADACVIWLHGLGADRYDFLPVAEALQESLLTTRF...   \n",
       "\n",
       "      perplexity       EC length  positive_class  \n",
       "74881   1.314282  3.1.1.1  246.0               1  \n",
       "73620   1.094859  3.1.1.1  245.0               1  \n",
       "73782   1.243911  3.1.1.1  218.0               1  "
      ]
     },
     "execution_count": 121,
     "metadata": {},
     "output_type": "execute_result"
    }
   ],
   "source": [
    "df_pet_predictions[df_pet_predictions[\"positive_class\"] == 1].sort_values(by=\"p1\", ascending=False)[:3]"
   ]
  },
  {
   "cell_type": "code",
   "execution_count": 122,
   "metadata": {},
   "outputs": [
    {
     "name": "stderr",
     "output_type": "stream",
     "text": [
      "/home/david/miniconda3/envs/embedding_protein/lib/python3.12/site-packages/sklearn/base.py:486: UserWarning: X has feature names, but ExtraTreesClassifier was fitted without feature names\n",
      "  warnings.warn(\n"
     ]
    }
   ],
   "source": [
    "predictions_phb = phb_model.predict_proba(df_esm1b.drop(columns=columns_with_info))\n",
    "df_phb_predictions = pd.DataFrame(data=predictions_phb, columns=[\"p0\", \"p1\"])\n",
    "\n",
    "for column in columns_with_info:\n",
    "    df_phb_predictions[columns_with_info] = df_esm1b[columns_with_info].values"
   ]
  },
  {
   "cell_type": "code",
   "execution_count": 123,
   "metadata": {},
   "outputs": [
    {
     "data": {
      "text/plain": [
       "positive_class\n",
       "0    103540\n",
       "1     15535\n",
       "Name: count, dtype: int64"
      ]
     },
     "execution_count": 123,
     "metadata": {},
     "output_type": "execute_result"
    }
   ],
   "source": [
    "df_phb_predictions[\"positive_class\"] = (df_phb_predictions[\"p1\"]>=0.5).astype(int)\n",
    "df_phb_predictions[\"positive_class\"].value_counts()"
   ]
  },
  {
   "cell_type": "code",
   "execution_count": 124,
   "metadata": {},
   "outputs": [
    {
     "data": {
      "text/html": [
       "<div>\n",
       "<style scoped>\n",
       "    .dataframe tbody tr th:only-of-type {\n",
       "        vertical-align: middle;\n",
       "    }\n",
       "\n",
       "    .dataframe tbody tr th {\n",
       "        vertical-align: top;\n",
       "    }\n",
       "\n",
       "    .dataframe thead th {\n",
       "        text-align: right;\n",
       "    }\n",
       "</style>\n",
       "<table border=\"1\" class=\"dataframe\">\n",
       "  <thead>\n",
       "    <tr style=\"text-align: right;\">\n",
       "      <th></th>\n",
       "      <th>p0</th>\n",
       "      <th>p1</th>\n",
       "      <th>sequence</th>\n",
       "      <th>perplexity</th>\n",
       "      <th>EC</th>\n",
       "      <th>length</th>\n",
       "      <th>positive_class</th>\n",
       "    </tr>\n",
       "  </thead>\n",
       "  <tbody>\n",
       "    <tr>\n",
       "      <th>80687</th>\n",
       "      <td>0.13</td>\n",
       "      <td>0.87</td>\n",
       "      <td>MKRVLSLTLSAISVLGVLPAVSASGSVTAPAGCGKQPTLANGTYKT...</td>\n",
       "      <td>2.364434</td>\n",
       "      <td>3.1.1.102</td>\n",
       "      <td>397.0</td>\n",
       "      <td>1</td>\n",
       "    </tr>\n",
       "    <tr>\n",
       "      <th>92799</th>\n",
       "      <td>0.13</td>\n",
       "      <td>0.87</td>\n",
       "      <td>MKRFILTSCVALVAGTGLVQTNNTTPTQSPGPTSTSTQTPPSNEGN...</td>\n",
       "      <td>2.873978</td>\n",
       "      <td>3.1.1.102</td>\n",
       "      <td>332.0</td>\n",
       "      <td>1</td>\n",
       "    </tr>\n",
       "    <tr>\n",
       "      <th>82124</th>\n",
       "      <td>0.14</td>\n",
       "      <td>0.86</td>\n",
       "      <td>MKRIGVILATAIFFSAQSYTNGSPELASATSSASATASASAANSPT...</td>\n",
       "      <td>2.520978</td>\n",
       "      <td>3.1.1.102</td>\n",
       "      <td>338.0</td>\n",
       "      <td>1</td>\n",
       "    </tr>\n",
       "  </tbody>\n",
       "</table>\n",
       "</div>"
      ],
      "text/plain": [
       "         p0    p1                                           sequence  \\\n",
       "80687  0.13  0.87  MKRVLSLTLSAISVLGVLPAVSASGSVTAPAGCGKQPTLANGTYKT...   \n",
       "92799  0.13  0.87  MKRFILTSCVALVAGTGLVQTNNTTPTQSPGPTSTSTQTPPSNEGN...   \n",
       "82124  0.14  0.86  MKRIGVILATAIFFSAQSYTNGSPELASATSSASATASASAANSPT...   \n",
       "\n",
       "      perplexity         EC length  positive_class  \n",
       "80687   2.364434  3.1.1.102  397.0               1  \n",
       "92799   2.873978  3.1.1.102  332.0               1  \n",
       "82124   2.520978  3.1.1.102  338.0               1  "
      ]
     },
     "execution_count": 124,
     "metadata": {},
     "output_type": "execute_result"
    }
   ],
   "source": [
    "df_phb_predictions[df_phb_predictions[\"positive_class\"] == 1].sort_values(by=\"p1\", ascending=False)[:3]"
   ]
  },
  {
   "cell_type": "code",
   "execution_count": 125,
   "metadata": {},
   "outputs": [
    {
     "name": "stderr",
     "output_type": "stream",
     "text": [
      "/home/david/miniconda3/envs/embedding_protein/lib/python3.12/site-packages/sklearn/base.py:486: UserWarning: X has feature names, but BaggingClassifier was fitted without feature names\n",
      "  warnings.warn(\n"
     ]
    }
   ],
   "source": [
    "predictions_pha = pha_model.predict_proba(df_esme.drop(columns=columns_with_info))\n",
    "df_pha_predictions = pd.DataFrame(data=predictions_pha, columns=[\"p0\", \"p1\"])\n",
    "\n",
    "for column in columns_with_info:\n",
    "    df_pha_predictions[columns_with_info] = df_esme[columns_with_info].values"
   ]
  },
  {
   "cell_type": "code",
   "execution_count": 126,
   "metadata": {},
   "outputs": [
    {
     "data": {
      "text/plain": [
       "positive_class\n",
       "0    72373\n",
       "1    46702\n",
       "Name: count, dtype: int64"
      ]
     },
     "execution_count": 126,
     "metadata": {},
     "output_type": "execute_result"
    }
   ],
   "source": [
    "df_pha_predictions[\"positive_class\"] = (df_pha_predictions[\"p1\"]>=0.5).astype(int)\n",
    "df_pha_predictions[\"positive_class\"].value_counts()"
   ]
  },
  {
   "cell_type": "code",
   "execution_count": 127,
   "metadata": {},
   "outputs": [
    {
     "data": {
      "text/html": [
       "<div>\n",
       "<style scoped>\n",
       "    .dataframe tbody tr th:only-of-type {\n",
       "        vertical-align: middle;\n",
       "    }\n",
       "\n",
       "    .dataframe tbody tr th {\n",
       "        vertical-align: top;\n",
       "    }\n",
       "\n",
       "    .dataframe thead th {\n",
       "        text-align: right;\n",
       "    }\n",
       "</style>\n",
       "<table border=\"1\" class=\"dataframe\">\n",
       "  <thead>\n",
       "    <tr style=\"text-align: right;\">\n",
       "      <th></th>\n",
       "      <th>p0</th>\n",
       "      <th>p1</th>\n",
       "      <th>sequence</th>\n",
       "      <th>perplexity</th>\n",
       "      <th>EC</th>\n",
       "      <th>length</th>\n",
       "      <th>positive_class</th>\n",
       "    </tr>\n",
       "  </thead>\n",
       "  <tbody>\n",
       "    <tr>\n",
       "      <th>96284</th>\n",
       "      <td>0.0</td>\n",
       "      <td>1.0</td>\n",
       "      <td>MSVLAVGERIDPQVISFTARAPDPAPLVVVLHGCSGDDYGWNKHAS...</td>\n",
       "      <td>4.692308</td>\n",
       "      <td>3.1.1.2</td>\n",
       "      <td>274.0</td>\n",
       "      <td>1</td>\n",
       "    </tr>\n",
       "    <tr>\n",
       "      <th>119038</th>\n",
       "      <td>0.0</td>\n",
       "      <td>1.0</td>\n",
       "      <td>MTVPGKSLFRVRDGELQVIARAEPGGEAILLHGYPYDSLAMNEFVD...</td>\n",
       "      <td>1.733365</td>\n",
       "      <td>3.1.1.2</td>\n",
       "      <td>252.0</td>\n",
       "      <td>1</td>\n",
       "    </tr>\n",
       "    <tr>\n",
       "      <th>72518</th>\n",
       "      <td>0.0</td>\n",
       "      <td>1.0</td>\n",
       "      <td>MLTPVARIDSATGGRTPLFFDADTGEVRVTGTTVSTSAASPRTRGA...</td>\n",
       "      <td>4.146861</td>\n",
       "      <td>3.1.1.1</td>\n",
       "      <td>333.0</td>\n",
       "      <td>1</td>\n",
       "    </tr>\n",
       "  </tbody>\n",
       "</table>\n",
       "</div>"
      ],
      "text/plain": [
       "         p0   p1                                           sequence  \\\n",
       "96284   0.0  1.0  MSVLAVGERIDPQVISFTARAPDPAPLVVVLHGCSGDDYGWNKHAS...   \n",
       "119038  0.0  1.0  MTVPGKSLFRVRDGELQVIARAEPGGEAILLHGYPYDSLAMNEFVD...   \n",
       "72518   0.0  1.0  MLTPVARIDSATGGRTPLFFDADTGEVRVTGTTVSTSAASPRTRGA...   \n",
       "\n",
       "       perplexity       EC length  positive_class  \n",
       "96284    4.692308  3.1.1.2  274.0               1  \n",
       "119038   1.733365  3.1.1.2  252.0               1  \n",
       "72518    4.146861  3.1.1.1  333.0               1  "
      ]
     },
     "execution_count": 127,
     "metadata": {},
     "output_type": "execute_result"
    }
   ],
   "source": [
    "df_pha_predictions[df_pha_predictions[\"positive_class\"] == 1].sort_values(by=\"p1\", ascending=False)[:3]"
   ]
  },
  {
   "cell_type": "code",
   "execution_count": 128,
   "metadata": {},
   "outputs": [
    {
     "name": "stderr",
     "output_type": "stream",
     "text": [
      "/home/david/miniconda3/envs/embedding_protein/lib/python3.12/site-packages/sklearn/base.py:486: UserWarning: X has feature names, but HistGradientBoostingClassifier was fitted without feature names\n",
      "  warnings.warn(\n"
     ]
    }
   ],
   "source": [
    "predictions_pla = pla_model.predict_proba(df_plusrnn.drop(columns=columns_with_info))\n",
    "df_pla_predictions = pd.DataFrame(data=predictions_pla, columns=[\"p0\", \"p1\"])\n",
    "\n",
    "for column in columns_with_info:\n",
    "    df_pla_predictions[columns_with_info] = df_plusrnn[columns_with_info].values\n"
   ]
  },
  {
   "cell_type": "code",
   "execution_count": 129,
   "metadata": {},
   "outputs": [
    {
     "data": {
      "text/plain": [
       "positive_class\n",
       "0    73953\n",
       "1    45122\n",
       "Name: count, dtype: int64"
      ]
     },
     "execution_count": 129,
     "metadata": {},
     "output_type": "execute_result"
    }
   ],
   "source": [
    "df_pla_predictions[\"positive_class\"] = (df_pla_predictions[\"p1\"]>=0.5).astype(int)\n",
    "df_pla_predictions[\"positive_class\"].value_counts()"
   ]
  },
  {
   "cell_type": "code",
   "execution_count": 130,
   "metadata": {},
   "outputs": [
    {
     "data": {
      "text/html": [
       "<div>\n",
       "<style scoped>\n",
       "    .dataframe tbody tr th:only-of-type {\n",
       "        vertical-align: middle;\n",
       "    }\n",
       "\n",
       "    .dataframe tbody tr th {\n",
       "        vertical-align: top;\n",
       "    }\n",
       "\n",
       "    .dataframe thead th {\n",
       "        text-align: right;\n",
       "    }\n",
       "</style>\n",
       "<table border=\"1\" class=\"dataframe\">\n",
       "  <thead>\n",
       "    <tr style=\"text-align: right;\">\n",
       "      <th></th>\n",
       "      <th>p0</th>\n",
       "      <th>p1</th>\n",
       "      <th>sequence</th>\n",
       "      <th>perplexity</th>\n",
       "      <th>EC</th>\n",
       "      <th>length</th>\n",
       "      <th>positive_class</th>\n",
       "    </tr>\n",
       "  </thead>\n",
       "  <tbody>\n",
       "    <tr>\n",
       "      <th>15597</th>\n",
       "      <td>0.0001</td>\n",
       "      <td>0.9999</td>\n",
       "      <td>MKLTAIFSLAALAVPAMGQAALEARQLGTTNDLENGSCRTYVLIYA...</td>\n",
       "      <td>2.423614</td>\n",
       "      <td>3.1.1.74</td>\n",
       "      <td>214.0</td>\n",
       "      <td>1</td>\n",
       "    </tr>\n",
       "    <tr>\n",
       "      <th>1105</th>\n",
       "      <td>0.0001</td>\n",
       "      <td>0.9999</td>\n",
       "      <td>MKASVLALALAGVATAYPLDQRQSLESARDVLTRNDLEHGDSSNCP...</td>\n",
       "      <td>1.710498</td>\n",
       "      <td>3.1.1.74</td>\n",
       "      <td>224.0</td>\n",
       "      <td>1</td>\n",
       "    </tr>\n",
       "    <tr>\n",
       "      <th>15518</th>\n",
       "      <td>0.0001</td>\n",
       "      <td>0.9999</td>\n",
       "      <td>MHASTILLSALLGTAAVASPLGIESRQFGSASSGNSASSVDLFSEG...</td>\n",
       "      <td>3.54578</td>\n",
       "      <td>3.1.1.74</td>\n",
       "      <td>216.0</td>\n",
       "      <td>1</td>\n",
       "    </tr>\n",
       "  </tbody>\n",
       "</table>\n",
       "</div>"
      ],
      "text/plain": [
       "           p0      p1                                           sequence  \\\n",
       "15597  0.0001  0.9999  MKLTAIFSLAALAVPAMGQAALEARQLGTTNDLENGSCRTYVLIYA...   \n",
       "1105   0.0001  0.9999  MKASVLALALAGVATAYPLDQRQSLESARDVLTRNDLEHGDSSNCP...   \n",
       "15518  0.0001  0.9999  MHASTILLSALLGTAAVASPLGIESRQFGSASSGNSASSVDLFSEG...   \n",
       "\n",
       "      perplexity        EC length  positive_class  \n",
       "15597   2.423614  3.1.1.74  214.0               1  \n",
       "1105    1.710498  3.1.1.74  224.0               1  \n",
       "15518    3.54578  3.1.1.74  216.0               1  "
      ]
     },
     "execution_count": 130,
     "metadata": {},
     "output_type": "execute_result"
    }
   ],
   "source": [
    "df_pla_predictions[df_pla_predictions[\"positive_class\"] == 1].sort_values(by=\"p1\", ascending=False)[:3]"
   ]
  },
  {
   "cell_type": "code",
   "execution_count": 131,
   "metadata": {},
   "outputs": [
    {
     "name": "stderr",
     "output_type": "stream",
     "text": [
      "/home/david/miniconda3/envs/embedding_protein/lib/python3.12/site-packages/sklearn/base.py:486: UserWarning: X has feature names, but RandomForestClassifier was fitted without feature names\n",
      "  warnings.warn(\n"
     ]
    }
   ],
   "source": [
    "predictions_pcl = pcl_model.predict_proba(df_protrans_bdf.drop(columns=columns_with_info))\n",
    "df_pcl_predictions = pd.DataFrame(data=predictions_pcl, columns=[\"p0\", \"p1\"])\n",
    "\n",
    "for column in columns_with_info:\n",
    "    df_pcl_predictions[columns_with_info] = df_protrans_bdf[columns_with_info].values"
   ]
  },
  {
   "cell_type": "code",
   "execution_count": 132,
   "metadata": {},
   "outputs": [
    {
     "data": {
      "text/plain": [
       "positive_class\n",
       "0    74353\n",
       "1    44722\n",
       "Name: count, dtype: int64"
      ]
     },
     "execution_count": 132,
     "metadata": {},
     "output_type": "execute_result"
    }
   ],
   "source": [
    "df_pcl_predictions[\"positive_class\"] = (df_pcl_predictions[\"p1\"]>=0.5).astype(int)\n",
    "df_pcl_predictions[\"positive_class\"].value_counts()"
   ]
  },
  {
   "cell_type": "code",
   "execution_count": 133,
   "metadata": {},
   "outputs": [
    {
     "data": {
      "text/html": [
       "<div>\n",
       "<style scoped>\n",
       "    .dataframe tbody tr th:only-of-type {\n",
       "        vertical-align: middle;\n",
       "    }\n",
       "\n",
       "    .dataframe tbody tr th {\n",
       "        vertical-align: top;\n",
       "    }\n",
       "\n",
       "    .dataframe thead th {\n",
       "        text-align: right;\n",
       "    }\n",
       "</style>\n",
       "<table border=\"1\" class=\"dataframe\">\n",
       "  <thead>\n",
       "    <tr style=\"text-align: right;\">\n",
       "      <th></th>\n",
       "      <th>p0</th>\n",
       "      <th>p1</th>\n",
       "      <th>sequence</th>\n",
       "      <th>perplexity</th>\n",
       "      <th>EC</th>\n",
       "      <th>length</th>\n",
       "      <th>positive_class</th>\n",
       "    </tr>\n",
       "  </thead>\n",
       "  <tbody>\n",
       "    <tr>\n",
       "      <th>18718</th>\n",
       "      <td>0.03</td>\n",
       "      <td>0.97</td>\n",
       "      <td>MHRSATLLTTCLVVLLGATPTLAQAADGPAASSVTELENRLAGNDL...</td>\n",
       "      <td>2.588698</td>\n",
       "      <td>3.1.1.74</td>\n",
       "      <td>220.0</td>\n",
       "      <td>1</td>\n",
       "    </tr>\n",
       "    <tr>\n",
       "      <th>18370</th>\n",
       "      <td>0.03</td>\n",
       "      <td>0.97</td>\n",
       "      <td>MFTAVVLAGLFTPTAQALDIRQSVTNGLEAGECKPITYIFSRGTGE...</td>\n",
       "      <td>1.962059</td>\n",
       "      <td>3.1.1.74</td>\n",
       "      <td>213.0</td>\n",
       "      <td>1</td>\n",
       "    </tr>\n",
       "    <tr>\n",
       "      <th>20405</th>\n",
       "      <td>0.04</td>\n",
       "      <td>0.96</td>\n",
       "      <td>MVLSLIGTLVAATPVDLQERQVLTENDLKNGSCKPIIYVFARATTE...</td>\n",
       "      <td>1.701613</td>\n",
       "      <td>3.1.1.74</td>\n",
       "      <td>200.0</td>\n",
       "      <td>1</td>\n",
       "    </tr>\n",
       "  </tbody>\n",
       "</table>\n",
       "</div>"
      ],
      "text/plain": [
       "         p0    p1                                           sequence  \\\n",
       "18718  0.03  0.97  MHRSATLLTTCLVVLLGATPTLAQAADGPAASSVTELENRLAGNDL...   \n",
       "18370  0.03  0.97  MFTAVVLAGLFTPTAQALDIRQSVTNGLEAGECKPITYIFSRGTGE...   \n",
       "20405  0.04  0.96  MVLSLIGTLVAATPVDLQERQVLTENDLKNGSCKPIIYVFARATTE...   \n",
       "\n",
       "      perplexity        EC length  positive_class  \n",
       "18718   2.588698  3.1.1.74  220.0               1  \n",
       "18370   1.962059  3.1.1.74  213.0               1  \n",
       "20405   1.701613  3.1.1.74  200.0               1  "
      ]
     },
     "execution_count": 133,
     "metadata": {},
     "output_type": "execute_result"
    }
   ],
   "source": [
    "df_pcl_predictions[df_pcl_predictions[\"positive_class\"] == 1].sort_values(by=\"p1\", ascending=False)[:3]"
   ]
  },
  {
   "cell_type": "code",
   "execution_count": 134,
   "metadata": {},
   "outputs": [
    {
     "name": "stderr",
     "output_type": "stream",
     "text": [
      "/home/david/miniconda3/envs/embedding_protein/lib/python3.12/site-packages/sklearn/base.py:486: UserWarning: X has feature names, but RandomForestClassifier was fitted without feature names\n",
      "  warnings.warn(\n"
     ]
    }
   ],
   "source": [
    "predictions_pu = pu_model.predict_proba(df_protrans_albert.drop(columns=columns_with_info))\n",
    "df_pu_predictions = pd.DataFrame(data=predictions_pu, columns=[\"p0\", \"p1\"])\n",
    "\n",
    "for column in columns_with_info:\n",
    "    df_pu_predictions[columns_with_info] = df_protrans_albert[columns_with_info].values"
   ]
  },
  {
   "cell_type": "code",
   "execution_count": 135,
   "metadata": {},
   "outputs": [
    {
     "data": {
      "text/plain": [
       "positive_class\n",
       "0    66361\n",
       "1    52714\n",
       "Name: count, dtype: int64"
      ]
     },
     "execution_count": 135,
     "metadata": {},
     "output_type": "execute_result"
    }
   ],
   "source": [
    "df_pu_predictions[\"positive_class\"] = (df_pu_predictions[\"p1\"]>=0.5).astype(int)\n",
    "df_pu_predictions[\"positive_class\"].value_counts()"
   ]
  },
  {
   "cell_type": "code",
   "execution_count": 136,
   "metadata": {},
   "outputs": [
    {
     "data": {
      "text/html": [
       "<div>\n",
       "<style scoped>\n",
       "    .dataframe tbody tr th:only-of-type {\n",
       "        vertical-align: middle;\n",
       "    }\n",
       "\n",
       "    .dataframe tbody tr th {\n",
       "        vertical-align: top;\n",
       "    }\n",
       "\n",
       "    .dataframe thead th {\n",
       "        text-align: right;\n",
       "    }\n",
       "</style>\n",
       "<table border=\"1\" class=\"dataframe\">\n",
       "  <thead>\n",
       "    <tr style=\"text-align: right;\">\n",
       "      <th></th>\n",
       "      <th>p0</th>\n",
       "      <th>p1</th>\n",
       "      <th>sequence</th>\n",
       "      <th>perplexity</th>\n",
       "      <th>EC</th>\n",
       "      <th>length</th>\n",
       "      <th>positive_class</th>\n",
       "    </tr>\n",
       "  </thead>\n",
       "  <tbody>\n",
       "    <tr>\n",
       "      <th>71432</th>\n",
       "      <td>0.20</td>\n",
       "      <td>0.80</td>\n",
       "      <td>MNLDEYLSKGELCARELCQAVKSGEASPLEITQSCLKRIADINPKV...</td>\n",
       "      <td>3.914504</td>\n",
       "      <td>3.5.2.12</td>\n",
       "      <td>473.0</td>\n",
       "      <td>1</td>\n",
       "    </tr>\n",
       "    <tr>\n",
       "      <th>50722</th>\n",
       "      <td>0.20</td>\n",
       "      <td>0.80</td>\n",
       "      <td>MRSTITEVGDVTLDAWDVVGFNALVDAGKIEPTELLKESYLRIQQV...</td>\n",
       "      <td>4.317424</td>\n",
       "      <td>3.5.2.12</td>\n",
       "      <td>489.0</td>\n",
       "      <td>1</td>\n",
       "    </tr>\n",
       "    <tr>\n",
       "      <th>52846</th>\n",
       "      <td>0.22</td>\n",
       "      <td>0.78</td>\n",
       "      <td>MDYESLAKLDAVGLADLIRREEITPRELMDSAVAKAGKLNPTIHIV...</td>\n",
       "      <td>5.092028</td>\n",
       "      <td>3.5.2.12</td>\n",
       "      <td>454.0</td>\n",
       "      <td>1</td>\n",
       "    </tr>\n",
       "  </tbody>\n",
       "</table>\n",
       "</div>"
      ],
      "text/plain": [
       "         p0    p1                                           sequence  \\\n",
       "71432  0.20  0.80  MNLDEYLSKGELCARELCQAVKSGEASPLEITQSCLKRIADINPKV...   \n",
       "50722  0.20  0.80  MRSTITEVGDVTLDAWDVVGFNALVDAGKIEPTELLKESYLRIQQV...   \n",
       "52846  0.22  0.78  MDYESLAKLDAVGLADLIRREEITPRELMDSAVAKAGKLNPTIHIV...   \n",
       "\n",
       "      perplexity        EC length  positive_class  \n",
       "71432   3.914504  3.5.2.12  473.0               1  \n",
       "50722   4.317424  3.5.2.12  489.0               1  \n",
       "52846   5.092028  3.5.2.12  454.0               1  "
      ]
     },
     "execution_count": 136,
     "metadata": {},
     "output_type": "execute_result"
    }
   ],
   "source": [
    "df_pu_predictions[df_pu_predictions[\"positive_class\"] == 1].sort_values(by=\"p1\", ascending=False)[:3]"
   ]
  },
  {
   "cell_type": "code",
   "execution_count": 137,
   "metadata": {},
   "outputs": [
    {
     "name": "stderr",
     "output_type": "stream",
     "text": [
      "/home/david/miniconda3/envs/embedding_protein/lib/python3.12/site-packages/sklearn/base.py:486: UserWarning: X has feature names, but RandomForestClassifier was fitted without feature names\n",
      "  warnings.warn(\n"
     ]
    }
   ],
   "source": [
    "predictions_nylon = nylon_model.predict_proba(df_esme.drop(columns=columns_with_info))\n",
    "df_nylon_predictions = pd.DataFrame(data=predictions_nylon, columns=[\"p0\", \"p1\"])\n",
    "\n",
    "for column in columns_with_info:\n",
    "    df_nylon_predictions[columns_with_info] = df_esme[columns_with_info].values"
   ]
  },
  {
   "cell_type": "code",
   "execution_count": 138,
   "metadata": {},
   "outputs": [
    {
     "data": {
      "text/plain": [
       "positive_class\n",
       "0    71790\n",
       "1    47285\n",
       "Name: count, dtype: int64"
      ]
     },
     "execution_count": 138,
     "metadata": {},
     "output_type": "execute_result"
    }
   ],
   "source": [
    "df_nylon_predictions[\"positive_class\"] = (df_nylon_predictions[\"p1\"]>=0.5).astype(int)\n",
    "df_nylon_predictions[\"positive_class\"].value_counts()"
   ]
  },
  {
   "cell_type": "code",
   "execution_count": 139,
   "metadata": {},
   "outputs": [
    {
     "data": {
      "text/html": [
       "<div>\n",
       "<style scoped>\n",
       "    .dataframe tbody tr th:only-of-type {\n",
       "        vertical-align: middle;\n",
       "    }\n",
       "\n",
       "    .dataframe tbody tr th {\n",
       "        vertical-align: top;\n",
       "    }\n",
       "\n",
       "    .dataframe thead th {\n",
       "        text-align: right;\n",
       "    }\n",
       "</style>\n",
       "<table border=\"1\" class=\"dataframe\">\n",
       "  <thead>\n",
       "    <tr style=\"text-align: right;\">\n",
       "      <th></th>\n",
       "      <th>p0</th>\n",
       "      <th>p1</th>\n",
       "      <th>sequence</th>\n",
       "      <th>perplexity</th>\n",
       "      <th>EC</th>\n",
       "      <th>length</th>\n",
       "      <th>positive_class</th>\n",
       "    </tr>\n",
       "  </thead>\n",
       "  <tbody>\n",
       "    <tr>\n",
       "      <th>50489</th>\n",
       "      <td>0.01</td>\n",
       "      <td>0.99</td>\n",
       "      <td>MNTTALLEDLSAYDAVGLAALIEADRVTPRELMESAHAAFERTNAR...</td>\n",
       "      <td>4.798578</td>\n",
       "      <td>3.5.2.12</td>\n",
       "      <td>469.0</td>\n",
       "      <td>1</td>\n",
       "    </tr>\n",
       "    <tr>\n",
       "      <th>50330</th>\n",
       "      <td>0.01</td>\n",
       "      <td>0.99</td>\n",
       "      <td>MTQIDATQLSPEELARTDAVALADRVRAGQFSAEQVIARAHDAVEQ...</td>\n",
       "      <td>4.691217</td>\n",
       "      <td>3.5.2.12</td>\n",
       "      <td>496.0</td>\n",
       "      <td>1</td>\n",
       "    </tr>\n",
       "    <tr>\n",
       "      <th>50413</th>\n",
       "      <td>0.01</td>\n",
       "      <td>0.99</td>\n",
       "      <td>MTEILNAGEAATPSDIASLDTLAVRARQVSPEELRDSAYARIESID...</td>\n",
       "      <td>4.598907</td>\n",
       "      <td>3.5.2.12</td>\n",
       "      <td>474.0</td>\n",
       "      <td>1</td>\n",
       "    </tr>\n",
       "  </tbody>\n",
       "</table>\n",
       "</div>"
      ],
      "text/plain": [
       "         p0    p1                                           sequence  \\\n",
       "50489  0.01  0.99  MNTTALLEDLSAYDAVGLAALIEADRVTPRELMESAHAAFERTNAR...   \n",
       "50330  0.01  0.99  MTQIDATQLSPEELARTDAVALADRVRAGQFSAEQVIARAHDAVEQ...   \n",
       "50413  0.01  0.99  MTEILNAGEAATPSDIASLDTLAVRARQVSPEELRDSAYARIESID...   \n",
       "\n",
       "      perplexity        EC length  positive_class  \n",
       "50489   4.798578  3.5.2.12  469.0               1  \n",
       "50330   4.691217  3.5.2.12  496.0               1  \n",
       "50413   4.598907  3.5.2.12  474.0               1  "
      ]
     },
     "execution_count": 139,
     "metadata": {},
     "output_type": "execute_result"
    }
   ],
   "source": [
    "df_nylon_predictions[df_nylon_predictions[\"positive_class\"] == 1].sort_values(by=\"p1\", ascending=False)[:3]"
   ]
  },
  {
   "cell_type": "code",
   "execution_count": 140,
   "metadata": {},
   "outputs": [],
   "source": [
    "df_pet_predictions_filter = df_pet_predictions[df_pet_predictions[\"positive_class\"] == 1]\n",
    "df_pet_predictions_filter.sort_values(by=\"p1\", ascending=False).to_csv(\"seqs_to_evaluate.csv\", index=False)"
   ]
  }
 ],
 "metadata": {
  "kernelspec": {
   "display_name": "embedding_protein",
   "language": "python",
   "name": "python3"
  },
  "language_info": {
   "codemirror_mode": {
    "name": "ipython",
    "version": 3
   },
   "file_extension": ".py",
   "mimetype": "text/x-python",
   "name": "python",
   "nbconvert_exporter": "python",
   "pygments_lexer": "ipython3",
   "version": "3.12.6"
  }
 },
 "nbformat": 4,
 "nbformat_minor": 2
}
