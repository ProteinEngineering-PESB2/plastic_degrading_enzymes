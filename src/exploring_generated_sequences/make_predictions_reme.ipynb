{
 "cells": [
  {
   "cell_type": "code",
   "execution_count": 29,
   "metadata": {},
   "outputs": [],
   "source": [
    "import pandas as pd\n",
    "from joblib import load"
   ]
  },
  {
   "cell_type": "code",
   "execution_count": 30,
   "metadata": {},
   "outputs": [],
   "source": [
    "df_protrans_xlu50 = pd.read_csv(\"../../plastic_sequences/reme_sequences/protrans_xlu50/coded_dataset.csv\")\n",
    "df_esm1b = pd.read_csv(\"../../plastic_sequences/reme_sequences/esm1b/coded_dataset.csv\")\n",
    "df_esme = pd.read_csv(\"../../plastic_sequences/reme_sequences/esme/coded_dataset.csv\")\n",
    "df_plusrnn = pd.read_csv(\"../../plastic_sequences/reme_sequences/plusrnn/coded_dataset.csv\")\n",
    "df_protrans_bdf = pd.read_csv(\"../../plastic_sequences/reme_sequences/protrans_bdf/coded_dataset.csv\")\n",
    "df_protrans_albert = pd.read_csv(\"../../plastic_sequences/reme_sequences/protrans_albert/coded_dataset.csv\")"
   ]
  },
  {
   "cell_type": "code",
   "execution_count": 31,
   "metadata": {},
   "outputs": [
    {
     "data": {
      "text/html": [
       "<div>\n",
       "<style scoped>\n",
       "    .dataframe tbody tr th:only-of-type {\n",
       "        vertical-align: middle;\n",
       "    }\n",
       "\n",
       "    .dataframe tbody tr th {\n",
       "        vertical-align: top;\n",
       "    }\n",
       "\n",
       "    .dataframe thead th {\n",
       "        text-align: right;\n",
       "    }\n",
       "</style>\n",
       "<table border=\"1\" class=\"dataframe\">\n",
       "  <thead>\n",
       "    <tr style=\"text-align: right;\">\n",
       "      <th></th>\n",
       "      <th>p_0</th>\n",
       "      <th>p_1</th>\n",
       "      <th>p_2</th>\n",
       "      <th>p_3</th>\n",
       "      <th>p_4</th>\n",
       "      <th>p_5</th>\n",
       "      <th>p_6</th>\n",
       "      <th>p_7</th>\n",
       "      <th>p_8</th>\n",
       "      <th>p_9</th>\n",
       "      <th>...</th>\n",
       "      <th>p_1015</th>\n",
       "      <th>p_1016</th>\n",
       "      <th>p_1017</th>\n",
       "      <th>p_1018</th>\n",
       "      <th>p_1019</th>\n",
       "      <th>p_1020</th>\n",
       "      <th>p_1021</th>\n",
       "      <th>p_1022</th>\n",
       "      <th>p_1023</th>\n",
       "      <th>id_seq</th>\n",
       "    </tr>\n",
       "  </thead>\n",
       "  <tbody>\n",
       "    <tr>\n",
       "      <th>0</th>\n",
       "      <td>-0.019910</td>\n",
       "      <td>0.050643</td>\n",
       "      <td>0.016773</td>\n",
       "      <td>0.026029</td>\n",
       "      <td>-0.015722</td>\n",
       "      <td>0.099522</td>\n",
       "      <td>0.001573</td>\n",
       "      <td>-0.030752</td>\n",
       "      <td>0.011227</td>\n",
       "      <td>-0.042814</td>\n",
       "      <td>...</td>\n",
       "      <td>-0.063323</td>\n",
       "      <td>-0.015663</td>\n",
       "      <td>-0.068349</td>\n",
       "      <td>0.047562</td>\n",
       "      <td>-0.005854</td>\n",
       "      <td>-0.018748</td>\n",
       "      <td>-0.042913</td>\n",
       "      <td>0.017346</td>\n",
       "      <td>0.041448</td>\n",
       "      <td>tr|G6YRT7|G6YRT7_9ALTE</td>\n",
       "    </tr>\n",
       "    <tr>\n",
       "      <th>1</th>\n",
       "      <td>-0.001347</td>\n",
       "      <td>0.064639</td>\n",
       "      <td>0.040605</td>\n",
       "      <td>0.008328</td>\n",
       "      <td>-0.022893</td>\n",
       "      <td>0.111113</td>\n",
       "      <td>-0.020141</td>\n",
       "      <td>-0.032968</td>\n",
       "      <td>-0.013818</td>\n",
       "      <td>-0.035661</td>\n",
       "      <td>...</td>\n",
       "      <td>-0.075952</td>\n",
       "      <td>-0.021039</td>\n",
       "      <td>-0.046786</td>\n",
       "      <td>0.015570</td>\n",
       "      <td>-0.016162</td>\n",
       "      <td>-0.022948</td>\n",
       "      <td>-0.043445</td>\n",
       "      <td>0.022223</td>\n",
       "      <td>0.050763</td>\n",
       "      <td>tr|A0A1V1PLI7|A0A1V1PLI7_9PROT</td>\n",
       "    </tr>\n",
       "    <tr>\n",
       "      <th>2</th>\n",
       "      <td>-0.004875</td>\n",
       "      <td>0.055398</td>\n",
       "      <td>0.037905</td>\n",
       "      <td>0.014069</td>\n",
       "      <td>-0.015813</td>\n",
       "      <td>0.108496</td>\n",
       "      <td>-0.018214</td>\n",
       "      <td>-0.030312</td>\n",
       "      <td>-0.003771</td>\n",
       "      <td>-0.034613</td>\n",
       "      <td>...</td>\n",
       "      <td>-0.065491</td>\n",
       "      <td>-0.016093</td>\n",
       "      <td>-0.049182</td>\n",
       "      <td>0.044344</td>\n",
       "      <td>-0.008903</td>\n",
       "      <td>-0.021602</td>\n",
       "      <td>-0.044394</td>\n",
       "      <td>0.013823</td>\n",
       "      <td>0.043762</td>\n",
       "      <td>tr|A0A177E2R1|A0A177E2R1_ALTAL</td>\n",
       "    </tr>\n",
       "    <tr>\n",
       "      <th>3</th>\n",
       "      <td>-0.000334</td>\n",
       "      <td>0.051583</td>\n",
       "      <td>0.032858</td>\n",
       "      <td>0.009517</td>\n",
       "      <td>-0.018840</td>\n",
       "      <td>0.106472</td>\n",
       "      <td>-0.020098</td>\n",
       "      <td>-0.025217</td>\n",
       "      <td>-0.000467</td>\n",
       "      <td>-0.037039</td>\n",
       "      <td>...</td>\n",
       "      <td>-0.056485</td>\n",
       "      <td>-0.018913</td>\n",
       "      <td>-0.039192</td>\n",
       "      <td>0.049069</td>\n",
       "      <td>-0.004125</td>\n",
       "      <td>-0.018898</td>\n",
       "      <td>-0.051565</td>\n",
       "      <td>0.022253</td>\n",
       "      <td>0.042384</td>\n",
       "      <td>tr|A0A177BWU7|A0A177BWU7_9PLEO</td>\n",
       "    </tr>\n",
       "    <tr>\n",
       "      <th>4</th>\n",
       "      <td>-0.005203</td>\n",
       "      <td>0.052580</td>\n",
       "      <td>0.040525</td>\n",
       "      <td>0.004557</td>\n",
       "      <td>-0.020901</td>\n",
       "      <td>0.115247</td>\n",
       "      <td>-0.016252</td>\n",
       "      <td>-0.024967</td>\n",
       "      <td>-0.008531</td>\n",
       "      <td>-0.032701</td>\n",
       "      <td>...</td>\n",
       "      <td>-0.060365</td>\n",
       "      <td>-0.014676</td>\n",
       "      <td>-0.054347</td>\n",
       "      <td>0.045538</td>\n",
       "      <td>-0.009601</td>\n",
       "      <td>-0.018023</td>\n",
       "      <td>-0.046825</td>\n",
       "      <td>0.022322</td>\n",
       "      <td>0.043324</td>\n",
       "      <td>tr|A0A178AI24|A0A178AI24_9PLEO</td>\n",
       "    </tr>\n",
       "  </tbody>\n",
       "</table>\n",
       "<p>5 rows × 1025 columns</p>\n",
       "</div>"
      ],
      "text/plain": [
       "        p_0       p_1       p_2       p_3       p_4       p_5       p_6  \\\n",
       "0 -0.019910  0.050643  0.016773  0.026029 -0.015722  0.099522  0.001573   \n",
       "1 -0.001347  0.064639  0.040605  0.008328 -0.022893  0.111113 -0.020141   \n",
       "2 -0.004875  0.055398  0.037905  0.014069 -0.015813  0.108496 -0.018214   \n",
       "3 -0.000334  0.051583  0.032858  0.009517 -0.018840  0.106472 -0.020098   \n",
       "4 -0.005203  0.052580  0.040525  0.004557 -0.020901  0.115247 -0.016252   \n",
       "\n",
       "        p_7       p_8       p_9  ...    p_1015    p_1016    p_1017    p_1018  \\\n",
       "0 -0.030752  0.011227 -0.042814  ... -0.063323 -0.015663 -0.068349  0.047562   \n",
       "1 -0.032968 -0.013818 -0.035661  ... -0.075952 -0.021039 -0.046786  0.015570   \n",
       "2 -0.030312 -0.003771 -0.034613  ... -0.065491 -0.016093 -0.049182  0.044344   \n",
       "3 -0.025217 -0.000467 -0.037039  ... -0.056485 -0.018913 -0.039192  0.049069   \n",
       "4 -0.024967 -0.008531 -0.032701  ... -0.060365 -0.014676 -0.054347  0.045538   \n",
       "\n",
       "     p_1019    p_1020    p_1021    p_1022    p_1023  \\\n",
       "0 -0.005854 -0.018748 -0.042913  0.017346  0.041448   \n",
       "1 -0.016162 -0.022948 -0.043445  0.022223  0.050763   \n",
       "2 -0.008903 -0.021602 -0.044394  0.013823  0.043762   \n",
       "3 -0.004125 -0.018898 -0.051565  0.022253  0.042384   \n",
       "4 -0.009601 -0.018023 -0.046825  0.022322  0.043324   \n",
       "\n",
       "                           id_seq  \n",
       "0          tr|G6YRT7|G6YRT7_9ALTE  \n",
       "1  tr|A0A1V1PLI7|A0A1V1PLI7_9PROT  \n",
       "2  tr|A0A177E2R1|A0A177E2R1_ALTAL  \n",
       "3  tr|A0A177BWU7|A0A177BWU7_9PLEO  \n",
       "4  tr|A0A178AI24|A0A178AI24_9PLEO  \n",
       "\n",
       "[5 rows x 1025 columns]"
      ]
     },
     "execution_count": 31,
     "metadata": {},
     "output_type": "execute_result"
    }
   ],
   "source": [
    "df_protrans_xlu50.head()"
   ]
  },
  {
   "cell_type": "code",
   "execution_count": 32,
   "metadata": {},
   "outputs": [],
   "source": [
    "pet_model = load(\"../../generated_models/PET_clf.joblib\")\n",
    "pla_model = load(\"../../generated_models/PLA_clf.joblib\")\n",
    "pcl_model = load(\"../../generated_models/PCL_clf.joblib\")\n",
    "nylon_model = load(\"../../generated_models/NYLON_PA_clf.joblib\")\n",
    "pha_model = load(\"../../generated_models/PHA_clf.joblib\")\n",
    "phb_model = load(\"../../generated_models/PHB_clf.joblib\")\n",
    "pu_model = load(\"../../generated_models/PU_PUR_clf.joblib\")"
   ]
  },
  {
   "cell_type": "code",
   "execution_count": 33,
   "metadata": {},
   "outputs": [
    {
     "name": "stderr",
     "output_type": "stream",
     "text": [
      "/home/david/miniconda3/envs/embedding_protein/lib/python3.12/site-packages/sklearn/base.py:486: UserWarning: X has feature names, but ExtraTreesClassifier was fitted without feature names\n",
      "  warnings.warn(\n"
     ]
    }
   ],
   "source": [
    "predictions_pet = pet_model.predict_proba(df_protrans_xlu50.drop(columns=[\"id_seq\"]))\n",
    "df_pet_predictions = pd.DataFrame(data=predictions_pet, columns=[\"p0\", \"p1\"])\n",
    "df_pet_predictions[\"id_seq\"] = df_protrans_xlu50[\"id_seq\"].values"
   ]
  },
  {
   "cell_type": "code",
   "execution_count": 58,
   "metadata": {},
   "outputs": [
    {
     "data": {
      "text/plain": [
       "positive_class\n",
       "0    6059\n",
       "1       1\n",
       "Name: count, dtype: int64"
      ]
     },
     "execution_count": 58,
     "metadata": {},
     "output_type": "execute_result"
    }
   ],
   "source": [
    "df_pet_predictions[\"positive_class\"] = (df_pet_predictions[\"p1\"]>0.9).astype(int)\n",
    "df_pet_predictions[\"positive_class\"].value_counts()"
   ]
  },
  {
   "cell_type": "code",
   "execution_count": 35,
   "metadata": {},
   "outputs": [
    {
     "data": {
      "text/html": [
       "<div>\n",
       "<style scoped>\n",
       "    .dataframe tbody tr th:only-of-type {\n",
       "        vertical-align: middle;\n",
       "    }\n",
       "\n",
       "    .dataframe tbody tr th {\n",
       "        vertical-align: top;\n",
       "    }\n",
       "\n",
       "    .dataframe thead th {\n",
       "        text-align: right;\n",
       "    }\n",
       "</style>\n",
       "<table border=\"1\" class=\"dataframe\">\n",
       "  <thead>\n",
       "    <tr style=\"text-align: right;\">\n",
       "      <th></th>\n",
       "      <th>p0</th>\n",
       "      <th>p1</th>\n",
       "      <th>id_seq</th>\n",
       "      <th>positive_class</th>\n",
       "    </tr>\n",
       "  </thead>\n",
       "  <tbody>\n",
       "    <tr>\n",
       "      <th>1083</th>\n",
       "      <td>0.00</td>\n",
       "      <td>1.00</td>\n",
       "      <td>sp|P00590|CUTI1_FUSSO</td>\n",
       "      <td>1</td>\n",
       "    </tr>\n",
       "    <tr>\n",
       "      <th>1449</th>\n",
       "      <td>0.18</td>\n",
       "      <td>0.82</td>\n",
       "      <td>sp|Q06174|EST_GEOSE</td>\n",
       "      <td>1</td>\n",
       "    </tr>\n",
       "    <tr>\n",
       "      <th>1212</th>\n",
       "      <td>0.28</td>\n",
       "      <td>0.72</td>\n",
       "      <td>sp|Q53547|EST2_PSEFL</td>\n",
       "      <td>1</td>\n",
       "    </tr>\n",
       "  </tbody>\n",
       "</table>\n",
       "</div>"
      ],
      "text/plain": [
       "        p0    p1                 id_seq  positive_class\n",
       "1083  0.00  1.00  sp|P00590|CUTI1_FUSSO               1\n",
       "1449  0.18  0.82    sp|Q06174|EST_GEOSE               1\n",
       "1212  0.28  0.72   sp|Q53547|EST2_PSEFL               1"
      ]
     },
     "execution_count": 35,
     "metadata": {},
     "output_type": "execute_result"
    }
   ],
   "source": [
    "df_pet_predictions[df_pet_predictions[\"positive_class\"] == 1].sort_values(by=\"p1\", ascending=False)[:3]"
   ]
  },
  {
   "cell_type": "code",
   "execution_count": 37,
   "metadata": {},
   "outputs": [
    {
     "name": "stderr",
     "output_type": "stream",
     "text": [
      "/home/david/miniconda3/envs/embedding_protein/lib/python3.12/site-packages/sklearn/base.py:486: UserWarning: X has feature names, but ExtraTreesClassifier was fitted without feature names\n",
      "  warnings.warn(\n"
     ]
    }
   ],
   "source": [
    "predictions_phb = phb_model.predict_proba(df_esm1b.drop(columns=[\"id_seq\"]))\n",
    "df_phb_predictions = pd.DataFrame(data=predictions_phb, columns=[\"p0\", \"p1\"])\n",
    "df_phb_predictions[\"id_seq\"] = df_protrans_xlu50[\"id_seq\"].values"
   ]
  },
  {
   "cell_type": "code",
   "execution_count": 62,
   "metadata": {},
   "outputs": [
    {
     "data": {
      "text/plain": [
       "positive_class\n",
       "0    6060\n",
       "Name: count, dtype: int64"
      ]
     },
     "execution_count": 62,
     "metadata": {},
     "output_type": "execute_result"
    }
   ],
   "source": [
    "df_phb_predictions[\"positive_class\"] = (df_phb_predictions[\"p1\"]>0.9).astype(int)\n",
    "df_phb_predictions[\"positive_class\"].value_counts()"
   ]
  },
  {
   "cell_type": "code",
   "execution_count": 39,
   "metadata": {},
   "outputs": [
    {
     "data": {
      "text/html": [
       "<div>\n",
       "<style scoped>\n",
       "    .dataframe tbody tr th:only-of-type {\n",
       "        vertical-align: middle;\n",
       "    }\n",
       "\n",
       "    .dataframe tbody tr th {\n",
       "        vertical-align: top;\n",
       "    }\n",
       "\n",
       "    .dataframe thead th {\n",
       "        text-align: right;\n",
       "    }\n",
       "</style>\n",
       "<table border=\"1\" class=\"dataframe\">\n",
       "  <thead>\n",
       "    <tr style=\"text-align: right;\">\n",
       "      <th></th>\n",
       "      <th>p0</th>\n",
       "      <th>p1</th>\n",
       "      <th>id_seq</th>\n",
       "      <th>positive_class</th>\n",
       "    </tr>\n",
       "  </thead>\n",
       "  <tbody>\n",
       "    <tr>\n",
       "      <th>1603</th>\n",
       "      <td>0.14</td>\n",
       "      <td>0.86</td>\n",
       "      <td>sp|A9GMG8|CE1_SORC5</td>\n",
       "      <td>1</td>\n",
       "    </tr>\n",
       "    <tr>\n",
       "      <th>1101</th>\n",
       "      <td>0.21</td>\n",
       "      <td>0.79</td>\n",
       "      <td>sp|Q9HE18|FAEB_TALFU</td>\n",
       "      <td>1</td>\n",
       "    </tr>\n",
       "    <tr>\n",
       "      <th>1170</th>\n",
       "      <td>0.21</td>\n",
       "      <td>0.79</td>\n",
       "      <td>sp|B8M9H9|FAEB_TALSN</td>\n",
       "      <td>1</td>\n",
       "    </tr>\n",
       "  </tbody>\n",
       "</table>\n",
       "</div>"
      ],
      "text/plain": [
       "        p0    p1                id_seq  positive_class\n",
       "1603  0.14  0.86   sp|A9GMG8|CE1_SORC5               1\n",
       "1101  0.21  0.79  sp|Q9HE18|FAEB_TALFU               1\n",
       "1170  0.21  0.79  sp|B8M9H9|FAEB_TALSN               1"
      ]
     },
     "execution_count": 39,
     "metadata": {},
     "output_type": "execute_result"
    }
   ],
   "source": [
    "df_phb_predictions[df_phb_predictions[\"positive_class\"] == 1].sort_values(by=\"p1\", ascending=False)[:3]"
   ]
  },
  {
   "cell_type": "code",
   "execution_count": 40,
   "metadata": {},
   "outputs": [
    {
     "name": "stderr",
     "output_type": "stream",
     "text": [
      "/home/david/miniconda3/envs/embedding_protein/lib/python3.12/site-packages/sklearn/base.py:486: UserWarning: X has feature names, but BaggingClassifier was fitted without feature names\n",
      "  warnings.warn(\n"
     ]
    }
   ],
   "source": [
    "predictions_pha = pha_model.predict_proba(df_esme.drop(columns=[\"id_seq\"]))\n",
    "df_pha_predictions = pd.DataFrame(data=predictions_pha, columns=[\"p0\", \"p1\"])\n",
    "df_pha_predictions[\"id_seq\"] = df_protrans_xlu50[\"id_seq\"].values"
   ]
  },
  {
   "cell_type": "code",
   "execution_count": 66,
   "metadata": {},
   "outputs": [
    {
     "data": {
      "text/plain": [
       "positive_class\n",
       "0    6054\n",
       "1       6\n",
       "Name: count, dtype: int64"
      ]
     },
     "execution_count": 66,
     "metadata": {},
     "output_type": "execute_result"
    }
   ],
   "source": [
    "df_pha_predictions[\"positive_class\"] = (df_pha_predictions[\"p1\"]>0.9).astype(int)\n",
    "df_pha_predictions[\"positive_class\"].value_counts()"
   ]
  },
  {
   "cell_type": "code",
   "execution_count": 42,
   "metadata": {},
   "outputs": [
    {
     "data": {
      "text/html": [
       "<div>\n",
       "<style scoped>\n",
       "    .dataframe tbody tr th:only-of-type {\n",
       "        vertical-align: middle;\n",
       "    }\n",
       "\n",
       "    .dataframe tbody tr th {\n",
       "        vertical-align: top;\n",
       "    }\n",
       "\n",
       "    .dataframe thead th {\n",
       "        text-align: right;\n",
       "    }\n",
       "</style>\n",
       "<table border=\"1\" class=\"dataframe\">\n",
       "  <thead>\n",
       "    <tr style=\"text-align: right;\">\n",
       "      <th></th>\n",
       "      <th>p0</th>\n",
       "      <th>p1</th>\n",
       "      <th>id_seq</th>\n",
       "      <th>positive_class</th>\n",
       "    </tr>\n",
       "  </thead>\n",
       "  <tbody>\n",
       "    <tr>\n",
       "      <th>1570</th>\n",
       "      <td>0.0</td>\n",
       "      <td>1.0</td>\n",
       "      <td>sp|Q5B037|AXE1_EMENI</td>\n",
       "      <td>1</td>\n",
       "    </tr>\n",
       "    <tr>\n",
       "      <th>1603</th>\n",
       "      <td>0.0</td>\n",
       "      <td>1.0</td>\n",
       "      <td>sp|A9GMG8|CE1_SORC5</td>\n",
       "      <td>1</td>\n",
       "    </tr>\n",
       "    <tr>\n",
       "      <th>1413</th>\n",
       "      <td>0.0</td>\n",
       "      <td>1.0</td>\n",
       "      <td>sp|P76561|YPFH_ECOLI</td>\n",
       "      <td>1</td>\n",
       "    </tr>\n",
       "  </tbody>\n",
       "</table>\n",
       "</div>"
      ],
      "text/plain": [
       "       p0   p1                id_seq  positive_class\n",
       "1570  0.0  1.0  sp|Q5B037|AXE1_EMENI               1\n",
       "1603  0.0  1.0   sp|A9GMG8|CE1_SORC5               1\n",
       "1413  0.0  1.0  sp|P76561|YPFH_ECOLI               1"
      ]
     },
     "execution_count": 42,
     "metadata": {},
     "output_type": "execute_result"
    }
   ],
   "source": [
    "df_pha_predictions[df_pha_predictions[\"positive_class\"] == 1].sort_values(by=\"p1\", ascending=False)[:3]"
   ]
  },
  {
   "cell_type": "code",
   "execution_count": 43,
   "metadata": {},
   "outputs": [
    {
     "name": "stderr",
     "output_type": "stream",
     "text": [
      "/home/david/miniconda3/envs/embedding_protein/lib/python3.12/site-packages/sklearn/base.py:486: UserWarning: X has feature names, but HistGradientBoostingClassifier was fitted without feature names\n",
      "  warnings.warn(\n"
     ]
    }
   ],
   "source": [
    "predictions_pla = pla_model.predict_proba(df_plusrnn.drop(columns=[\"id_seq\"]))\n",
    "df_pla_predictions = pd.DataFrame(data=predictions_pla, columns=[\"p0\", \"p1\"])\n",
    "df_pla_predictions[\"id_seq\"] = df_protrans_xlu50[\"id_seq\"].values"
   ]
  },
  {
   "cell_type": "code",
   "execution_count": 70,
   "metadata": {},
   "outputs": [
    {
     "data": {
      "text/plain": [
       "positive_class\n",
       "0    5434\n",
       "1     626\n",
       "Name: count, dtype: int64"
      ]
     },
     "execution_count": 70,
     "metadata": {},
     "output_type": "execute_result"
    }
   ],
   "source": [
    "df_pla_predictions[\"positive_class\"] = (df_pla_predictions[\"p1\"]>0.9).astype(int)\n",
    "df_pla_predictions[\"positive_class\"].value_counts()"
   ]
  },
  {
   "cell_type": "code",
   "execution_count": 45,
   "metadata": {},
   "outputs": [
    {
     "data": {
      "text/html": [
       "<div>\n",
       "<style scoped>\n",
       "    .dataframe tbody tr th:only-of-type {\n",
       "        vertical-align: middle;\n",
       "    }\n",
       "\n",
       "    .dataframe tbody tr th {\n",
       "        vertical-align: top;\n",
       "    }\n",
       "\n",
       "    .dataframe thead th {\n",
       "        text-align: right;\n",
       "    }\n",
       "</style>\n",
       "<table border=\"1\" class=\"dataframe\">\n",
       "  <thead>\n",
       "    <tr style=\"text-align: right;\">\n",
       "      <th></th>\n",
       "      <th>p0</th>\n",
       "      <th>p1</th>\n",
       "      <th>id_seq</th>\n",
       "      <th>positive_class</th>\n",
       "    </tr>\n",
       "  </thead>\n",
       "  <tbody>\n",
       "    <tr>\n",
       "      <th>1503</th>\n",
       "      <td>0.000304</td>\n",
       "      <td>0.999696</td>\n",
       "      <td>sp|Q3SZ07|OVCA2_BOVIN</td>\n",
       "      <td>1</td>\n",
       "    </tr>\n",
       "    <tr>\n",
       "      <th>1084</th>\n",
       "      <td>0.000421</td>\n",
       "      <td>0.999579</td>\n",
       "      <td>sp|P11373|CUTI1_COLGL</td>\n",
       "      <td>1</td>\n",
       "    </tr>\n",
       "    <tr>\n",
       "      <th>1094</th>\n",
       "      <td>0.000428</td>\n",
       "      <td>0.999572</td>\n",
       "      <td>sp|Q8X1P1|CUTI_BLUGH</td>\n",
       "      <td>1</td>\n",
       "    </tr>\n",
       "  </tbody>\n",
       "</table>\n",
       "</div>"
      ],
      "text/plain": [
       "            p0        p1                 id_seq  positive_class\n",
       "1503  0.000304  0.999696  sp|Q3SZ07|OVCA2_BOVIN               1\n",
       "1084  0.000421  0.999579  sp|P11373|CUTI1_COLGL               1\n",
       "1094  0.000428  0.999572   sp|Q8X1P1|CUTI_BLUGH               1"
      ]
     },
     "execution_count": 45,
     "metadata": {},
     "output_type": "execute_result"
    }
   ],
   "source": [
    "df_pla_predictions[df_pla_predictions[\"positive_class\"] == 1].sort_values(by=\"p1\", ascending=False)[:3]"
   ]
  },
  {
   "cell_type": "code",
   "execution_count": 46,
   "metadata": {},
   "outputs": [
    {
     "name": "stderr",
     "output_type": "stream",
     "text": [
      "/home/david/miniconda3/envs/embedding_protein/lib/python3.12/site-packages/sklearn/base.py:486: UserWarning: X has feature names, but RandomForestClassifier was fitted without feature names\n",
      "  warnings.warn(\n"
     ]
    }
   ],
   "source": [
    "predictions_pcl = pcl_model.predict_proba(df_protrans_bdf.drop(columns=[\"id_seq\"]))\n",
    "df_pcl_predictions = pd.DataFrame(data=predictions_pcl, columns=[\"p0\", \"p1\"])\n",
    "df_pcl_predictions[\"id_seq\"] = df_protrans_xlu50[\"id_seq\"].values"
   ]
  },
  {
   "cell_type": "code",
   "execution_count": 74,
   "metadata": {},
   "outputs": [
    {
     "data": {
      "text/plain": [
       "positive_class\n",
       "0    6059\n",
       "1       1\n",
       "Name: count, dtype: int64"
      ]
     },
     "execution_count": 74,
     "metadata": {},
     "output_type": "execute_result"
    }
   ],
   "source": [
    "df_pcl_predictions[\"positive_class\"] = (df_pcl_predictions[\"p1\"]>0.9).astype(int)\n",
    "df_pcl_predictions[\"positive_class\"].value_counts()"
   ]
  },
  {
   "cell_type": "code",
   "execution_count": 48,
   "metadata": {},
   "outputs": [
    {
     "data": {
      "text/html": [
       "<div>\n",
       "<style scoped>\n",
       "    .dataframe tbody tr th:only-of-type {\n",
       "        vertical-align: middle;\n",
       "    }\n",
       "\n",
       "    .dataframe tbody tr th {\n",
       "        vertical-align: top;\n",
       "    }\n",
       "\n",
       "    .dataframe thead th {\n",
       "        text-align: right;\n",
       "    }\n",
       "</style>\n",
       "<table border=\"1\" class=\"dataframe\">\n",
       "  <thead>\n",
       "    <tr style=\"text-align: right;\">\n",
       "      <th></th>\n",
       "      <th>p0</th>\n",
       "      <th>p1</th>\n",
       "      <th>id_seq</th>\n",
       "      <th>positive_class</th>\n",
       "    </tr>\n",
       "  </thead>\n",
       "  <tbody>\n",
       "    <tr>\n",
       "      <th>1093</th>\n",
       "      <td>0.08</td>\n",
       "      <td>0.92</td>\n",
       "      <td>sp|Q96UT0|CUTI2_FUSSO</td>\n",
       "      <td>1</td>\n",
       "    </tr>\n",
       "    <tr>\n",
       "      <th>1095</th>\n",
       "      <td>0.10</td>\n",
       "      <td>0.90</td>\n",
       "      <td>sp|Q9Y7G8|CUTI_PYRBR</td>\n",
       "      <td>1</td>\n",
       "    </tr>\n",
       "    <tr>\n",
       "      <th>1083</th>\n",
       "      <td>0.11</td>\n",
       "      <td>0.89</td>\n",
       "      <td>sp|P00590|CUTI1_FUSSO</td>\n",
       "      <td>1</td>\n",
       "    </tr>\n",
       "  </tbody>\n",
       "</table>\n",
       "</div>"
      ],
      "text/plain": [
       "        p0    p1                 id_seq  positive_class\n",
       "1093  0.08  0.92  sp|Q96UT0|CUTI2_FUSSO               1\n",
       "1095  0.10  0.90   sp|Q9Y7G8|CUTI_PYRBR               1\n",
       "1083  0.11  0.89  sp|P00590|CUTI1_FUSSO               1"
      ]
     },
     "execution_count": 48,
     "metadata": {},
     "output_type": "execute_result"
    }
   ],
   "source": [
    "df_pcl_predictions[df_pcl_predictions[\"positive_class\"] == 1].sort_values(by=\"p1\", ascending=False)[:3]"
   ]
  },
  {
   "cell_type": "code",
   "execution_count": 49,
   "metadata": {},
   "outputs": [
    {
     "name": "stderr",
     "output_type": "stream",
     "text": [
      "/home/david/miniconda3/envs/embedding_protein/lib/python3.12/site-packages/sklearn/base.py:486: UserWarning: X has feature names, but RandomForestClassifier was fitted without feature names\n",
      "  warnings.warn(\n"
     ]
    }
   ],
   "source": [
    "predictions_pu = pu_model.predict_proba(df_protrans_albert.drop(columns=[\"id_seq\"]))\n",
    "df_pu_predictions = pd.DataFrame(data=predictions_pu, columns=[\"p0\", \"p1\"])\n",
    "df_pu_predictions[\"id_seq\"] = df_protrans_xlu50[\"id_seq\"].values"
   ]
  },
  {
   "cell_type": "code",
   "execution_count": 77,
   "metadata": {},
   "outputs": [
    {
     "data": {
      "text/plain": [
       "positive_class\n",
       "0    6060\n",
       "Name: count, dtype: int64"
      ]
     },
     "execution_count": 77,
     "metadata": {},
     "output_type": "execute_result"
    }
   ],
   "source": [
    "df_pu_predictions[\"positive_class\"] = (df_pu_predictions[\"p1\"]>0.8).astype(int)\n",
    "df_pu_predictions[\"positive_class\"].value_counts()"
   ]
  },
  {
   "cell_type": "code",
   "execution_count": 51,
   "metadata": {},
   "outputs": [
    {
     "data": {
      "text/html": [
       "<div>\n",
       "<style scoped>\n",
       "    .dataframe tbody tr th:only-of-type {\n",
       "        vertical-align: middle;\n",
       "    }\n",
       "\n",
       "    .dataframe tbody tr th {\n",
       "        vertical-align: top;\n",
       "    }\n",
       "\n",
       "    .dataframe thead th {\n",
       "        text-align: right;\n",
       "    }\n",
       "</style>\n",
       "<table border=\"1\" class=\"dataframe\">\n",
       "  <thead>\n",
       "    <tr style=\"text-align: right;\">\n",
       "      <th></th>\n",
       "      <th>p0</th>\n",
       "      <th>p1</th>\n",
       "      <th>id_seq</th>\n",
       "      <th>positive_class</th>\n",
       "    </tr>\n",
       "  </thead>\n",
       "  <tbody>\n",
       "    <tr>\n",
       "      <th>2032</th>\n",
       "      <td>0.23</td>\n",
       "      <td>0.77</td>\n",
       "      <td>tr|A4K517|A4K517_HYLLA</td>\n",
       "      <td>1</td>\n",
       "    </tr>\n",
       "    <tr>\n",
       "      <th>2149</th>\n",
       "      <td>0.24</td>\n",
       "      <td>0.76</td>\n",
       "      <td>tr|A4K518|A4K518_PANTR</td>\n",
       "      <td>1</td>\n",
       "    </tr>\n",
       "    <tr>\n",
       "      <th>2538</th>\n",
       "      <td>0.24</td>\n",
       "      <td>0.76</td>\n",
       "      <td>tr|A4K508|A4K508_SAGFU</td>\n",
       "      <td>1</td>\n",
       "    </tr>\n",
       "  </tbody>\n",
       "</table>\n",
       "</div>"
      ],
      "text/plain": [
       "        p0    p1                  id_seq  positive_class\n",
       "2032  0.23  0.77  tr|A4K517|A4K517_HYLLA               1\n",
       "2149  0.24  0.76  tr|A4K518|A4K518_PANTR               1\n",
       "2538  0.24  0.76  tr|A4K508|A4K508_SAGFU               1"
      ]
     },
     "execution_count": 51,
     "metadata": {},
     "output_type": "execute_result"
    }
   ],
   "source": [
    "df_pu_predictions[df_pu_predictions[\"positive_class\"] == 1].sort_values(by=\"p1\", ascending=False)[:3]"
   ]
  },
  {
   "cell_type": "code",
   "execution_count": 52,
   "metadata": {},
   "outputs": [
    {
     "name": "stderr",
     "output_type": "stream",
     "text": [
      "/home/david/miniconda3/envs/embedding_protein/lib/python3.12/site-packages/sklearn/base.py:486: UserWarning: X has feature names, but RandomForestClassifier was fitted without feature names\n",
      "  warnings.warn(\n"
     ]
    }
   ],
   "source": [
    "predictions_nylon = nylon_model.predict_proba(df_esme.drop(columns=[\"id_seq\"]))\n",
    "df_nylon_predictions = pd.DataFrame(data=predictions_nylon, columns=[\"p0\", \"p1\"])\n",
    "df_nylon_predictions[\"id_seq\"] = df_protrans_xlu50[\"id_seq\"].values"
   ]
  },
  {
   "cell_type": "code",
   "execution_count": 79,
   "metadata": {},
   "outputs": [
    {
     "data": {
      "text/plain": [
       "positive_class\n",
       "0    6060\n",
       "Name: count, dtype: int64"
      ]
     },
     "execution_count": 79,
     "metadata": {},
     "output_type": "execute_result"
    }
   ],
   "source": [
    "df_nylon_predictions[\"positive_class\"] = (df_nylon_predictions[\"p1\"]>0.7).astype(int)\n",
    "df_nylon_predictions[\"positive_class\"].value_counts()"
   ]
  },
  {
   "cell_type": "code",
   "execution_count": 54,
   "metadata": {},
   "outputs": [
    {
     "data": {
      "text/html": [
       "<div>\n",
       "<style scoped>\n",
       "    .dataframe tbody tr th:only-of-type {\n",
       "        vertical-align: middle;\n",
       "    }\n",
       "\n",
       "    .dataframe tbody tr th {\n",
       "        vertical-align: top;\n",
       "    }\n",
       "\n",
       "    .dataframe thead th {\n",
       "        text-align: right;\n",
       "    }\n",
       "</style>\n",
       "<table border=\"1\" class=\"dataframe\">\n",
       "  <thead>\n",
       "    <tr style=\"text-align: right;\">\n",
       "      <th></th>\n",
       "      <th>p0</th>\n",
       "      <th>p1</th>\n",
       "      <th>id_seq</th>\n",
       "      <th>positive_class</th>\n",
       "    </tr>\n",
       "  </thead>\n",
       "  <tbody>\n",
       "    <tr>\n",
       "      <th>5048</th>\n",
       "      <td>0.31</td>\n",
       "      <td>0.69</td>\n",
       "      <td>tr|A0A316ADR0|A0A316ADR0_9ACTN</td>\n",
       "      <td>1</td>\n",
       "    </tr>\n",
       "    <tr>\n",
       "      <th>5624</th>\n",
       "      <td>0.33</td>\n",
       "      <td>0.67</td>\n",
       "      <td>tr|A0A1I5PGE4|A0A1I5PGE4_9ACTN</td>\n",
       "      <td>1</td>\n",
       "    </tr>\n",
       "    <tr>\n",
       "      <th>4662</th>\n",
       "      <td>0.34</td>\n",
       "      <td>0.66</td>\n",
       "      <td>tr|A0A1H8R8P9|A0A1H8R8P9_9ACTN</td>\n",
       "      <td>1</td>\n",
       "    </tr>\n",
       "  </tbody>\n",
       "</table>\n",
       "</div>"
      ],
      "text/plain": [
       "        p0    p1                          id_seq  positive_class\n",
       "5048  0.31  0.69  tr|A0A316ADR0|A0A316ADR0_9ACTN               1\n",
       "5624  0.33  0.67  tr|A0A1I5PGE4|A0A1I5PGE4_9ACTN               1\n",
       "4662  0.34  0.66  tr|A0A1H8R8P9|A0A1H8R8P9_9ACTN               1"
      ]
     },
     "execution_count": 54,
     "metadata": {},
     "output_type": "execute_result"
    }
   ],
   "source": [
    "df_nylon_predictions[df_nylon_predictions[\"positive_class\"] == 1].sort_values(by=\"p1\", ascending=False)[:3]"
   ]
  }
 ],
 "metadata": {
  "kernelspec": {
   "display_name": "embedding_protein",
   "language": "python",
   "name": "python3"
  },
  "language_info": {
   "codemirror_mode": {
    "name": "ipython",
    "version": 3
   },
   "file_extension": ".py",
   "mimetype": "text/x-python",
   "name": "python",
   "nbconvert_exporter": "python",
   "pygments_lexer": "ipython3",
   "version": "3.12.6"
  }
 },
 "nbformat": 4,
 "nbformat_minor": 2
}
