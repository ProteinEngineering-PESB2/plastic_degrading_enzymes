{
 "cells": [
  {
   "cell_type": "code",
   "execution_count": 2,
   "metadata": {},
   "outputs": [],
   "source": [
    "import pandas as pd\n",
    "import os"
   ]
  },
  {
   "cell_type": "code",
   "execution_count": 4,
   "metadata": {},
   "outputs": [],
   "source": [
    "path_results = \"../../results_training_exploring/\""
   ]
  },
  {
   "cell_type": "code",
   "execution_count": 13,
   "metadata": {},
   "outputs": [],
   "source": [
    "type_plastic_list = [\"PET\", \"PHB\", \"PHA\", \"PLA\", \"PCL\", \"PU_PUR\", \"NYLON_PA\"]"
   ]
  },
  {
   "cell_type": "code",
   "execution_count": 14,
   "metadata": {},
   "outputs": [],
   "source": [
    "for i in range(len(type_plastic_list)):\n",
    "    list_encoders = os.listdir(f\"{path_results}{type_plastic_list[i]}\")\n",
    "    list_encoders = [value for value in list_encoders if \".csv\" not in value]\n",
    "    \n",
    "    list_df_performances = []\n",
    "\n",
    "    for encoder in list_encoders:\n",
    "        path_process = f\"{path_results}{type_plastic_list[i]}/{encoder}/\"\n",
    "        list_files = os.listdir(path_process)\n",
    "\n",
    "        strategy = \"\"\n",
    "\n",
    "        if \"FFT_\" in encoder:\n",
    "            strategy = \"FFT-based\"\n",
    "        elif \"k_mers\" in encoder:\n",
    "            strategy = \"K-mers\"\n",
    "        elif \"physicochemical\" in encoder:\n",
    "            strategy = \"PHY-based\"\n",
    "        elif encoder in [\"one_hot\", \"ordinal_encoder\", \"frequency_encoders\"]:\n",
    "            strategy = \"Baseline\"\n",
    "        elif encoder == \"feature_engineering\":\n",
    "            strategy = \"Feature-based\"\n",
    "        else:\n",
    "            strategy = \"Embedding-based\"\n",
    "\n",
    "        for file_explored in list_files:\n",
    "            df_data = pd.read_csv(f\"{path_process}{file_explored}\")\n",
    "            df_data[\"encoder\"] = encoder\n",
    "            df_data[\"Strategy\"] = strategy\n",
    "        \n",
    "            list_df_performances.append(df_data)\n",
    "\n",
    "    df_performances = pd.concat(list_df_performances, axis=0)\n",
    "    df_performances.to_csv(f\"{path_results}{type_plastic_list[i]}/explored_performances.csv\", index=False)\n"
   ]
  }
 ],
 "metadata": {
  "kernelspec": {
   "display_name": "embedding_protein",
   "language": "python",
   "name": "python3"
  },
  "language_info": {
   "codemirror_mode": {
    "name": "ipython",
    "version": 3
   },
   "file_extension": ".py",
   "mimetype": "text/x-python",
   "name": "python",
   "nbconvert_exporter": "python",
   "pygments_lexer": "ipython3",
   "version": "3.12.6"
  }
 },
 "nbformat": 4,
 "nbformat_minor": 2
}
