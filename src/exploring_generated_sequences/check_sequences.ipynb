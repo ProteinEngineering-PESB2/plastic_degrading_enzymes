{
 "cells": [
  {
   "cell_type": "code",
   "execution_count": 2,
   "metadata": {},
   "outputs": [],
   "source": [
    "import pandas as pd\n",
    "import os"
   ]
  },
  {
   "cell_type": "code",
   "execution_count": 6,
   "metadata": {},
   "outputs": [
    {
     "data": {
      "text/plain": [
       "EC\n",
       "3.1.1.74     23908\n",
       "3.5.2.12     23881\n",
       "3.1.1.2      23775\n",
       "3.5.1.117    19961\n",
       "3.1.1.102    19948\n",
       "3.1.1.1       3884\n",
       "3.5.1.46      3718\n",
       "Name: count, dtype: int64"
      ]
     },
     "execution_count": 6,
     "metadata": {},
     "output_type": "execute_result"
    }
   ],
   "source": [
    "df_all_seq = pd.read_csv(\"../../plastic_sequences/generated_sequences/all_generated_sequences.csv\")\n",
    "df_all_seq[\"EC\"].value_counts()"
   ]
  },
  {
   "cell_type": "code",
   "execution_count": 8,
   "metadata": {},
   "outputs": [],
   "source": [
    "def process_concat(path_data):\n",
    "    df_names = os.listdir(path_data)\n",
    "    print(df_names)\n",
    "\n",
    "    list_df = []\n",
    "\n",
    "    for element in range(6):\n",
    "        print(\"processing: \", element)\n",
    "        df = pd.read_csv(f\"{path_data}coded_dataset_{element}.csv\") \n",
    "        df[\"index_value\"] =  df.index\n",
    "        print(df[\"index_value\"].describe())\n",
    "        \n",
    "        list_df.append(df)\n",
    "    df_process = pd.concat(list_df, axis=0)\n",
    "    return df_process"
   ]
  },
  {
   "cell_type": "code",
   "execution_count": 9,
   "metadata": {},
   "outputs": [
    {
     "name": "stdout",
     "output_type": "stream",
     "text": [
      "['coded_dataset_5.csv', 'coded_dataset_4.csv', 'coded_dataset_1.csv', 'coded_dataset_3.csv', 'coded_dataset_2.csv', 'coded_dataset_0.csv']\n",
      "processing:  0\n",
      "count    20000.000000\n",
      "mean      9999.500000\n",
      "std       5773.647028\n",
      "min          0.000000\n",
      "25%       4999.750000\n",
      "50%       9999.500000\n",
      "75%      14999.250000\n",
      "max      19999.000000\n",
      "Name: index_value, dtype: float64\n",
      "processing:  1\n",
      "count    20000.000000\n",
      "mean      9999.500000\n",
      "std       5773.647028\n",
      "min          0.000000\n",
      "25%       4999.750000\n",
      "50%       9999.500000\n",
      "75%      14999.250000\n",
      "max      19999.000000\n",
      "Name: index_value, dtype: float64\n",
      "processing:  2\n",
      "count    20000.000000\n",
      "mean      9999.500000\n",
      "std       5773.647028\n",
      "min          0.000000\n",
      "25%       4999.750000\n",
      "50%       9999.500000\n",
      "75%      14999.250000\n",
      "max      19999.000000\n",
      "Name: index_value, dtype: float64\n",
      "processing:  3\n",
      "count    20000.000000\n",
      "mean      9999.500000\n",
      "std       5773.647028\n",
      "min          0.000000\n",
      "25%       4999.750000\n",
      "50%       9999.500000\n",
      "75%      14999.250000\n",
      "max      19999.000000\n",
      "Name: index_value, dtype: float64\n",
      "processing:  4\n",
      "count    20000.000000\n",
      "mean      9999.500000\n",
      "std       5773.647028\n",
      "min          0.000000\n",
      "25%       4999.750000\n",
      "50%       9999.500000\n",
      "75%      14999.250000\n",
      "max      19999.000000\n",
      "Name: index_value, dtype: float64\n",
      "processing:  5\n",
      "count    19075.000000\n",
      "mean      9537.000000\n",
      "std       5506.622528\n",
      "min          0.000000\n",
      "25%       4768.500000\n",
      "50%       9537.000000\n",
      "75%      14305.500000\n",
      "max      19074.000000\n",
      "Name: index_value, dtype: float64\n"
     ]
    }
   ],
   "source": [
    "df_protrans_xlu50 = process_concat(\"../../plastic_sequences/generated_sequences/protrans_xlu50/\")"
   ]
  }
 ],
 "metadata": {
  "kernelspec": {
   "display_name": "embedding_protein",
   "language": "python",
   "name": "python3"
  },
  "language_info": {
   "codemirror_mode": {
    "name": "ipython",
    "version": 3
   },
   "file_extension": ".py",
   "mimetype": "text/x-python",
   "name": "python",
   "nbconvert_exporter": "python",
   "pygments_lexer": "ipython3",
   "version": "3.12.6"
  }
 },
 "nbformat": 4,
 "nbformat_minor": 2
}
