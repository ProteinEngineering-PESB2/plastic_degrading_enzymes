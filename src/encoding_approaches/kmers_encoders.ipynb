{
 "cells": [
  {
   "cell_type": "code",
   "execution_count": 1,
   "metadata": {},
   "outputs": [],
   "source": [
    "import warnings\n",
    "warnings.filterwarnings(\"ignore\")"
   ]
  },
  {
   "cell_type": "code",
   "execution_count": 2,
   "metadata": {},
   "outputs": [],
   "source": [
    "import pandas as pd\n",
    "from lib.KMersEncoders import KMersEncoders"
   ]
  },
  {
   "cell_type": "code",
   "execution_count": 3,
   "metadata": {},
   "outputs": [
    {
     "data": {
      "text/html": [
       "<div>\n",
       "<style scoped>\n",
       "    .dataframe tbody tr th:only-of-type {\n",
       "        vertical-align: middle;\n",
       "    }\n",
       "\n",
       "    .dataframe tbody tr th {\n",
       "        vertical-align: top;\n",
       "    }\n",
       "\n",
       "    .dataframe thead th {\n",
       "        text-align: right;\n",
       "    }\n",
       "</style>\n",
       "<table border=\"1\" class=\"dataframe\">\n",
       "  <thead>\n",
       "    <tr style=\"text-align: right;\">\n",
       "      <th></th>\n",
       "      <th>sequence</th>\n",
       "    </tr>\n",
       "  </thead>\n",
       "  <tbody>\n",
       "    <tr>\n",
       "      <th>0</th>\n",
       "      <td>AANPYERGPNPTDALLEARSGPFSVSEENVSRLSASGFGGGTIYYP...</td>\n",
       "    </tr>\n",
       "    <tr>\n",
       "      <th>1</th>\n",
       "      <td>AANPYQRGPDPTESLLRAARGPFAVSEQSVSRLSVSGFGGGRIYYP...</td>\n",
       "    </tr>\n",
       "    <tr>\n",
       "      <th>2</th>\n",
       "      <td>AANPYQRGPNPTEASITAARGPFNTAEITVSRLSVSGFGGGKIYYP...</td>\n",
       "    </tr>\n",
       "    <tr>\n",
       "      <th>3</th>\n",
       "      <td>AAVHGPDPTDALLEASRGPYATRQVDVSSLLVSGFGGGTIYYPTTT...</td>\n",
       "    </tr>\n",
       "    <tr>\n",
       "      <th>4</th>\n",
       "      <td>AHVYNDKQIFSLEKERLFSRAWLFVAHESEIPQPGDYVVRQVLQDS...</td>\n",
       "    </tr>\n",
       "  </tbody>\n",
       "</table>\n",
       "</div>"
      ],
      "text/plain": [
       "                                            sequence\n",
       "0  AANPYERGPNPTDALLEARSGPFSVSEENVSRLSASGFGGGTIYYP...\n",
       "1  AANPYQRGPDPTESLLRAARGPFAVSEQSVSRLSVSGFGGGRIYYP...\n",
       "2  AANPYQRGPNPTEASITAARGPFNTAEITVSRLSVSGFGGGKIYYP...\n",
       "3  AAVHGPDPTDALLEASRGPYATRQVDVSSLLVSGFGGGTIYYPTTT...\n",
       "4  AHVYNDKQIFSLEKERLFSRAWLFVAHESEIPQPGDYVVRQVLQDS..."
      ]
     },
     "execution_count": 3,
     "metadata": {},
     "output_type": "execute_result"
    }
   ],
   "source": [
    "df_data = pd.read_csv(\"../../raw_data/data_sequences.csv\")\n",
    "df_data.head(5)"
   ]
  },
  {
   "cell_type": "code",
   "execution_count": 5,
   "metadata": {},
   "outputs": [
    {
     "name": "stdout",
     "output_type": "stream",
     "text": [
      "Processing k:  2\n",
      "Checking canonical residues in the dataset\n",
      "Estimating lenght in protein sequences\n",
      "Evaluating length in protein sequences\n",
      "Processing k:  3\n",
      "Checking canonical residues in the dataset\n",
      "Estimating lenght in protein sequences\n",
      "Evaluating length in protein sequences\n",
      "Processing k:  4\n",
      "Checking canonical residues in the dataset\n",
      "Estimating lenght in protein sequences\n",
      "Evaluating length in protein sequences\n",
      "Processing k:  5\n",
      "Checking canonical residues in the dataset\n",
      "Estimating lenght in protein sequences\n",
      "Evaluating length in protein sequences\n",
      "Processing k:  6\n",
      "Checking canonical residues in the dataset\n",
      "Estimating lenght in protein sequences\n",
      "Evaluating length in protein sequences\n",
      "Processing k:  7\n",
      "Checking canonical residues in the dataset\n",
      "Estimating lenght in protein sequences\n",
      "Evaluating length in protein sequences\n",
      "Processing k:  8\n",
      "Checking canonical residues in the dataset\n",
      "Estimating lenght in protein sequences\n",
      "Evaluating length in protein sequences\n",
      "Processing k:  9\n",
      "Checking canonical residues in the dataset\n",
      "Estimating lenght in protein sequences\n",
      "Evaluating length in protein sequences\n"
     ]
    }
   ],
   "source": [
    "for i in range(2, 10):\n",
    "    print(\"Processing k: \", i)\n",
    "    kmer_instance = KMersEncoders(\n",
    "        dataset=df_data,\n",
    "        sequence_column=\"sequence\",\n",
    "        size_kmer=i\n",
    "    )\n",
    "\n",
    "    kmer_instance.process_dataset()\n",
    "    coded_dataset = kmer_instance.coded_dataset\n",
    "\n",
    "    coded_dataset.to_csv(f\"../../processed_dataset/k_mers_{i}/encoder_data.csv\", index=False)"
   ]
  }
 ],
 "metadata": {
  "kernelspec": {
   "display_name": "embedding_protein",
   "language": "python",
   "name": "python3"
  },
  "language_info": {
   "codemirror_mode": {
    "name": "ipython",
    "version": 3
   },
   "file_extension": ".py",
   "mimetype": "text/x-python",
   "name": "python",
   "nbconvert_exporter": "python",
   "pygments_lexer": "ipython3",
   "version": "3.12.6"
  }
 },
 "nbformat": 4,
 "nbformat_minor": 2
}
